{
 "cells": [
  {
   "cell_type": "markdown",
   "metadata": {},
   "source": [
    "# Ticks"
   ]
  },
  {
   "cell_type": "code",
   "execution_count": 1,
   "metadata": {},
   "outputs": [],
   "source": [
    "from pandas import read_csv, concat, Series\n",
    "# %matplotlib inline \n",
    "import seaborn as sns\n",
    "import numpy as np\n",
    "import pandas as pd\n",
    "# import matplotlib.pyplot as plt\n",
    "# from helpers import *\n",
    "# from IPython.display import display\n",
    "# from matplotlib import ticker\n",
    "# from scipy import stats\n",
    "# jupyter labextension install qgrid\n",
    "# from qgrid import show_grid\n",
    "# from scipy.stats import fisher_exact"
   ]
  },
  {
   "cell_type": "code",
   "execution_count": 2,
   "metadata": {},
   "outputs": [],
   "source": [
    "pd.options.mode.chained_assignment = None\n",
    "\n",
    "\n",
    "def theme():\n",
    "    sns.set(style=\"ticks\")\n",
    "    x = 1\n",
    "    sns.set(rc={'figure.figsize':(15/x, 10/x)}, font_scale=2.5/x)\n",
    "\n",
    "\n",
    "theme()"
   ]
  },
  {
   "cell_type": "markdown",
   "metadata": {},
   "source": [
    "## Data cleaning"
   ]
  },
  {
   "cell_type": "markdown",
   "metadata": {},
   "source": [
    "Max number of points in the tick knowledge test."
   ]
  },
  {
   "cell_type": "code",
   "execution_count": 3,
   "metadata": {},
   "outputs": [],
   "source": [
    "max_point_n = 29\n",
    "max_liczba_pkt = max_point_n"
   ]
  },
  {
   "cell_type": "markdown",
   "metadata": {},
   "source": [
    "## Loading and parsing data"
   ]
  },
  {
   "cell_type": "markdown",
   "metadata": {},
   "source": [
    "Conecting to csv files (with and without question with tick images) with answers into one.\n",
    "\n",
    "Due to technical limitation the first questionaire verion did not display the question with ticks photos. It was corrected in the second questionaire version and all survey answers were analyzed without this question."
   ]
  },
  {
   "cell_type": "code",
   "execution_count": 4,
   "metadata": {},
   "outputs": [
    {
     "data": {
      "text/html": [
       "<div>\n",
       "<style scoped>\n",
       "    .dataframe tbody tr th:only-of-type {\n",
       "        vertical-align: middle;\n",
       "    }\n",
       "\n",
       "    .dataframe tbody tr th {\n",
       "        vertical-align: top;\n",
       "    }\n",
       "\n",
       "    .dataframe thead th {\n",
       "        text-align: right;\n",
       "    }\n",
       "</style>\n",
       "<table border=\"1\" class=\"dataframe\">\n",
       "  <thead>\n",
       "    <tr style=\"text-align: right;\">\n",
       "      <th></th>\n",
       "    </tr>\n",
       "  </thead>\n",
       "  <tbody>\n",
       "    <tr>\n",
       "      <th>Timestamp</th>\n",
       "    </tr>\n",
       "    <tr>\n",
       "      <th>Płeć</th>\n",
       "    </tr>\n",
       "    <tr>\n",
       "      <th>Ile masz lat? (skończone)</th>\n",
       "    </tr>\n",
       "    <tr>\n",
       "      <th>Miejsce zamieszkania</th>\n",
       "    </tr>\n",
       "    <tr>\n",
       "      <th>Czy jesteś członkiem organizacji harcerskiej na terenie Polski?</th>\n",
       "    </tr>\n",
       "    <tr>\n",
       "      <th>Do jakiej organizacji harcerskiej należysz?</th>\n",
       "    </tr>\n",
       "    <tr>\n",
       "      <th>Od ilu lat jesteś członkiem organizacji harcerskiej?</th>\n",
       "    </tr>\n",
       "    <tr>\n",
       "      <th>Czy pełnisz funkcję instruktorską (np. drużynowy) lub jesteś instruktorem?</th>\n",
       "    </tr>\n",
       "    <tr>\n",
       "      <th>W ilu obozach uczestniczyłaś/-łeś?</th>\n",
       "    </tr>\n",
       "    <tr>\n",
       "      <th>Zaznacz wszystkie obrazki, które przedstawiają kleszcza</th>\n",
       "    </tr>\n",
       "    <tr>\n",
       "      <th>Z poniższej listy wybierz choroby roznoszone przez kleszcze</th>\n",
       "    </tr>\n",
       "    <tr>\n",
       "      <th>Z poniższej listy wybierz objawy, które często występują przy chorobach odkleszczowych</th>\n",
       "    </tr>\n",
       "    <tr>\n",
       "      <th>Jakie będzie Twoje postępowanie w przypadku ugryzienia przez kleszcza?</th>\n",
       "    </tr>\n",
       "    <tr>\n",
       "      <th>Co zrobić w przypadku pojawienia się objawów po ugryzieniu przez kleszcza? (np. zaczerwienienia, gorączki, rumienia)</th>\n",
       "    </tr>\n",
       "    <tr>\n",
       "      <th>Jak wyjąć kleszcza?</th>\n",
       "    </tr>\n",
       "    <tr>\n",
       "      <th>Jakie profilaktyczne działania możesz podjąć, aby zminimalizować ryzyko ugryzienia przez kleszcza?</th>\n",
       "    </tr>\n",
       "    <tr>\n",
       "      <th>Gdzie żyją kleszcze?</th>\n",
       "    </tr>\n",
       "    <tr>\n",
       "      <th>Kleszcze można wykręcać tylko w jedną, określoną stronę</th>\n",
       "    </tr>\n",
       "    <tr>\n",
       "      <th>Przed wyjęciem kleszcza należy go  posmarować masłem, olejem lub spirytusem</th>\n",
       "    </tr>\n",
       "    <tr>\n",
       "      <th>Z każdym kleszczem należy jechać na pogotowie/SOR, aby lekarz go wyciągnął - nie można go samemu wyjmować</th>\n",
       "    </tr>\n",
       "    <tr>\n",
       "      <th>Przy boreliozie zawsze pojawia się rumień wędrujący</th>\n",
       "    </tr>\n",
       "    <tr>\n",
       "      <th>Tylko duże kleszcze roznoszą choroby</th>\n",
       "    </tr>\n",
       "    <tr>\n",
       "      <th>Należy poczekać aż kleszcz sam wyjdzie ze skóry</th>\n",
       "    </tr>\n",
       "    <tr>\n",
       "      <th>Aby wyciągnąć kleszcza łapiemy kleszcza za odwłok by porazić jego układ nerwowy i trzymamy aż sam wyjdzie</th>\n",
       "    </tr>\n",
       "    <tr>\n",
       "      <th>Jak szybko wyjmę kleszcza to na pewno nie zachoruję</th>\n",
       "    </tr>\n",
       "    <tr>\n",
       "      <th>Aby wykręcić kleszcza wystarczy koliście łaskotać go wacikiem aż sam wyjdzie</th>\n",
       "    </tr>\n",
       "    <tr>\n",
       "      <th>Rumień zawsze pojawia się w miejscu ugryzienia</th>\n",
       "    </tr>\n",
       "    <tr>\n",
       "      <th>Istnieje szczepionka przeciwko kleszczom</th>\n",
       "    </tr>\n",
       "    <tr>\n",
       "      <th>Kleszcze występują tylko w lasach</th>\n",
       "    </tr>\n",
       "    <tr>\n",
       "      <th>Nieprawidłowe wyjęcie kleszcza zwiększa ryzyko zarażenia</th>\n",
       "    </tr>\n",
       "    <tr>\n",
       "      <th>Na boreliozę choruje się od razu po ugryzieniu</th>\n",
       "    </tr>\n",
       "    <tr>\n",
       "      <th>Preparaty do odstraszania kleszczy (np. spraye, obroże, krople, kadzidła itp.) chronią mnie w 100% przed ugryzieniem przez kleszcza</th>\n",
       "    </tr>\n",
       "    <tr>\n",
       "      <th>Kleszcze spadają na swoją ofiarę z drzewa, przynajmniej z jednego metra</th>\n",
       "    </tr>\n",
       "    <tr>\n",
       "      <th>Borelioza może pojawić się dopiero po pewnym czasie od ugryzienia</th>\n",
       "    </tr>\n",
       "    <tr>\n",
       "      <th>Jeśli nie wystąpi rumień wędrujący po ugryzieniu przez kleszcza to znaczy, że jestem zdrowa/y</th>\n",
       "    </tr>\n",
       "    <tr>\n",
       "      <th>Kleszcza można „złapać” tylko latem</th>\n",
       "    </tr>\n",
       "    <tr>\n",
       "      <th>Jak kawałek kleszcza zostanie w ciele, to nie trzeba się przejmować ani podejmować żadnych działań w kierunku usunięcia jego resztek</th>\n",
       "    </tr>\n",
       "    <tr>\n",
       "      <th>Kleszcza można „złapać” w mieście</th>\n",
       "    </tr>\n",
       "    <tr>\n",
       "      <th>Kleszcza należy wykręcić poprzez wykonywanie palcem kolistych ruchów po skórze wokół kleszcza</th>\n",
       "    </tr>\n",
       "    <tr>\n",
       "      <th>Szacunkowo ile tygodni spędzasz w ciągu roku na łonie natury (w lesie, parku, na łące itp.)?</th>\n",
       "    </tr>\n",
       "    <tr>\n",
       "      <th>Ile razy byłaś/łeś ugryziony kiedyś przez kleszcza?</th>\n",
       "    </tr>\n",
       "    <tr>\n",
       "      <th>Skąd czerpiesz wiedzę na temat kleszczy i chorób które roznoszą?</th>\n",
       "    </tr>\n",
       "    <tr>\n",
       "      <th>Czy uczestniczyłaś/łeś w zajęciach z pierwszej pomocy?</th>\n",
       "    </tr>\n",
       "    <tr>\n",
       "      <th>Czy podczas zajęć z pierwszej pomocy był poruszany temat kleszczy np. chorób odkleszczowych lub co zrobić w przypadku ugryzienia przez kleszcza?</th>\n",
       "    </tr>\n",
       "    <tr>\n",
       "      <th>Jakie urządzenia do usuwania kleszczy (spośród dostępnych na polskim rynku) widziałaś/łeś lub miałaś/łeś okazję używać?</th>\n",
       "    </tr>\n",
       "    <tr>\n",
       "      <th>with_images</th>\n",
       "    </tr>\n",
       "  </tbody>\n",
       "</table>\n",
       "</div>"
      ],
      "text/plain": [
       "                                                  \n",
       "Timestamp                                         \n",
       "Płeć                                              \n",
       "Ile masz lat? (skończone)                         \n",
       "Miejsce zamieszkania                              \n",
       "Czy jesteś członkiem organizacji harcerskiej na...\n",
       "Do jakiej organizacji harcerskiej należysz?       \n",
       "Od ilu lat jesteś członkiem organizacji harcers...\n",
       "Czy pełnisz funkcję instruktorską (np. drużynow...\n",
       "W ilu obozach uczestniczyłaś/-łeś?                \n",
       "Zaznacz wszystkie obrazki, które przedstawiają ...\n",
       "Z poniższej listy wybierz choroby roznoszone pr...\n",
       "Z poniższej listy wybierz objawy, które często ...\n",
       "Jakie będzie Twoje postępowanie w przypadku ugr...\n",
       "Co zrobić w przypadku pojawienia się objawów po...\n",
       "Jak wyjąć kleszcza?                               \n",
       "Jakie profilaktyczne działania możesz podjąć, a...\n",
       "Gdzie żyją kleszcze?                              \n",
       "Kleszcze można wykręcać tylko w jedną, określon...\n",
       "Przed wyjęciem kleszcza należy go  posmarować m...\n",
       "Z każdym kleszczem należy jechać na pogotowie/S...\n",
       "Przy boreliozie zawsze pojawia się rumień wędru...\n",
       "Tylko duże kleszcze roznoszą choroby              \n",
       "Należy poczekać aż kleszcz sam wyjdzie ze skóry   \n",
       "Aby wyciągnąć kleszcza łapiemy kleszcza za odwł...\n",
       "Jak szybko wyjmę kleszcza to na pewno nie zacho...\n",
       "Aby wykręcić kleszcza wystarczy koliście łaskot...\n",
       "Rumień zawsze pojawia się w miejscu ugryzienia    \n",
       "Istnieje szczepionka przeciwko kleszczom          \n",
       "Kleszcze występują tylko w lasach                 \n",
       "Nieprawidłowe wyjęcie kleszcza zwiększa ryzyko ...\n",
       "Na boreliozę choruje się od razu po ugryzieniu    \n",
       "Preparaty do odstraszania kleszczy (np. spraye,...\n",
       "Kleszcze spadają na swoją ofiarę z drzewa, przy...\n",
       "Borelioza może pojawić się dopiero po pewnym cz...\n",
       "Jeśli nie wystąpi rumień wędrujący po ugryzieni...\n",
       "Kleszcza można „złapać” tylko latem               \n",
       "Jak kawałek kleszcza zostanie w ciele, to nie t...\n",
       "Kleszcza można „złapać” w mieście                 \n",
       "Kleszcza należy wykręcić poprzez wykonywanie pa...\n",
       "Szacunkowo ile tygodni spędzasz w ciągu roku na...\n",
       "Ile razy byłaś/łeś ugryziony kiedyś przez klesz...\n",
       "Skąd czerpiesz wiedzę na temat kleszczy i choró...\n",
       "Czy uczestniczyłaś/łeś w zajęciach z pierwszej ...\n",
       "Czy podczas zajęć z pierwszej pomocy był porusz...\n",
       "Jakie urządzenia do usuwania kleszczy (spośród ...\n",
       "with_images                                       "
      ]
     },
     "execution_count": 4,
     "metadata": {},
     "output_type": "execute_result"
    }
   ],
   "source": [
    "without_photo = read_csv(\"data/tick_servey_2018_without_images.csv\")\n",
    "without_photo = without_photo.assign(with_images=False)\n",
    "with_photo = read_csv(\"data/tick_servey_2018_with_images.csv\")\n",
    "with_photo = with_photo.assign(with_images=True)\n",
    "# odpowiedzi is Polish for answers\n",
    "odpowiedzi = concat([without_photo, with_photo]).reset_index(drop=True)\n",
    "odpowiedzi.head(0).T"
   ]
  },
  {
   "cell_type": "code",
   "execution_count": 5,
   "metadata": {},
   "outputs": [
    {
     "name": "stdout",
     "output_type": "stream",
     "text": [
      "Number of rows before cleaning: 3623\n"
     ]
    }
   ],
   "source": [
    "odpowiedzi_rows_n = len(odpowiedzi)\n",
    "print(f'Number of rows before cleaning: {odpowiedzi_rows_n}')"
   ]
  },
  {
   "cell_type": "markdown",
   "metadata": {},
   "source": [
    "## Change column names"
   ]
  },
  {
   "cell_type": "code",
   "execution_count": 6,
   "metadata": {},
   "outputs": [],
   "source": [
    "names_map = {\n",
    "    'Ile masz lat? (skończone)': 'age',\n",
    "    'Płeć': 'sex',\n",
    "    'Miejsce zamieszkania': 'place_of_residence',\n",
    "    'Do jakiej organizacji harcerskiej należysz?': 'scouting_organization',\n",
    "    'Czy jesteś członkiem organizacji harcerskiej na terenie Polski?': 'is_polish_scout',\n",
    "    'Czy pełnisz funkcję instruktorską (np. drużynowy) lub jesteś instruktorem?': 'is_instructor',\n",
    "    'W ilu obozach uczestniczyłaś/-łeś?': 'camps_count',\n",
    "    'Od ilu lat jesteś członkiem organizacji harcerskiej? ': 'years_in_scouting',\n",
    "    'Zaznacz wszystkie obrazki, które przedstawiają kleszcza': 'tick_picture',\n",
    "    'Z poniższej listy wybierz choroby roznoszone przez kleszcze': 'TBD',\n",
    "    'Z poniższej listy wybierz objawy, które często występują przy chorobach odkleszczowych': 'TBD_symptoms',\n",
    "    'Jakie będzie Twoje postępowanie w przypadku ugryzienia przez kleszcza?': 'po_ugryzieniu',\n",
    "    'Co zrobić w przypadku pojawienia się objawów po ugryzieniu przez kleszcza? (np. zaczerwienienia, gorączki, rumienia)': 'after_bite',\n",
    "    'Jak wyjąć kleszcza?': 'how_to_remove',\n",
    "    'Jakie profilaktyczne działania możesz podjąć, aby zminimalizować ryzyko ugryzienia przez kleszcza?': 'profilaktyka',\n",
    "    'Gdzie żyją kleszcze?': 'where_ticks_live',\n",
    "    'Kleszcze można wykręcać tylko w jedną, określoną stronę': 'MIT_spin',\n",
    "    'Przed wyjęciem kleszcza należy go  posmarować masłem, olejem lub spirytusem': 'MIT_butter',\n",
    "    'Z każdym kleszczem należy jechać na pogotowie/SOR, aby lekarz go wyciągnął - nie można go samemu wyjmować': 'MIT_SOR',\n",
    "    'Przy boreliozie zawsze pojawia się rumień wędrujący': 'MIT_always_rumien',\n",
    "    'Tylko duże kleszcze roznoszą choroby': 'MIT_big_tick',\n",
    "    'Należy poczekać aż kleszcz sam wyjdzie ze skóry': 'MIT_tick_go_away',\n",
    "    'Aby wyciągnąć kleszcza łapiemy kleszcza za odwłok by porazić jego układ nerwowy i trzymamy aż sam wyjdzie': 'MIT_paralize_tick',\n",
    "    'Jak szybko wyjmę kleszcza to na pewno nie zachoruję': 'MIT_run_tick_run',\n",
    "    'Aby wykręcić kleszcza wystarczy koliście łaskotać go wacikiem aż sam wyjdzie': 'MIT_tickles',\n",
    "    'Rumień zawsze pojawia się w miejscu ugryzienia': 'MIT_place_of_bite',\n",
    "    'Istnieje szczepionka przeciwko kleszczom': 'MIT_vaccine',\n",
    "    'Kleszcze występują tylko w lasach': 'MIT_forest_only',\n",
    "    'Nieprawidłowe wyjęcie kleszcza zwiększa ryzyko zarażenia': 'MIT_wrong_remove',\n",
    "    'Na boreliozę choruje się od razu po ugryzieniu': 'MIT_speed_ill',\n",
    "    'Preparaty do odstraszania kleszczy (np. spraye, obroże, krople, kadzidła itp.) chronią mnie w 100% przed ugryzieniem przez kleszcza': 'MIT_scarry_tick',\n",
    "    'Kleszcze spadają na swoją ofiarę z drzewa, przynajmniej z jednego metra': 'MIT_tick_jump',\n",
    "    'Borelioza może pojawić się dopiero po pewnym czasie od ugryzienia': 'MIT_waiting_boreliosis',\n",
    "    'Jeśli nie wystąpi rumień wędrujący po ugryzieniu przez kleszcza to znaczy, że jestem zdrowa/y': 'MIT_safe',\n",
    "    'Kleszcza można „złapać” tylko latem': 'MIT_summer_tick',\n",
    "    'Jak kawałek kleszcza zostanie w ciele, to nie trzeba się przejmować ani podejmować żadnych działań w kierunku usunięcia jego resztek': 'MIT_part_tick',\n",
    "    'Kleszcza można „złapać” w mieście': 'MIT_city',\n",
    "    'Kleszcza należy wykręcić poprzez wykonywanie palcem kolistych ruchów po skórze wokół kleszcza': 'MIT_clock',\n",
    "    'Szacunkowo ile tygodni spędzasz w ciągu roku na łonie natury (w lesie, parku, na łące itp.)?': 'time_in_nature',\n",
    "    'Ile razy byłaś/łeś ugryziony kiedyś przez kleszcza?': 'tick_bites',\n",
    "    'Skąd czerpiesz wiedzę na temat kleszczy i chorób które roznoszą?': 'source_of_knowledge',\n",
    "    'Czy uczestniczyłaś/łeś w zajęciach z pierwszej pomocy?': 'first_aid_course',\n",
    "    'Czy podczas zajęć z pierwszej pomocy był poruszany temat kleszczy np. chorób odkleszczowych lub co zrobić w przypadku ugryzienia przez kleszcza?': 'first_aid_content',\n",
    "    'Jakie urządzenia do usuwania kleszczy (spośród dostępnych na polskim rynku) widziałaś/łeś lub miałaś/łeś okazję używać?': 'tick_removal',\n",
    "}\n",
    "all_answers = odpowiedzi.rename(columns=names_map)"
   ]
  },
  {
   "cell_type": "markdown",
   "metadata": {},
   "source": [
    "## Filter by age"
   ]
  },
  {
   "cell_type": "code",
   "execution_count": 7,
   "metadata": {},
   "outputs": [
    {
     "data": {
      "text/plain": [
       "[16, 17, 18, 19, 20, 21]"
      ]
     },
     "execution_count": 7,
     "metadata": {},
     "output_type": "execute_result"
    }
   ],
   "source": [
    "accepted_ages = list(range(16, 22))\n",
    "accepted_ages"
   ]
  },
  {
   "cell_type": "code",
   "execution_count": 8,
   "metadata": {},
   "outputs": [
    {
     "data": {
      "text/plain": [
       "3385"
      ]
     },
     "execution_count": 8,
     "metadata": {},
     "output_type": "execute_result"
    }
   ],
   "source": [
    "age_filtered_answers = all_answers.query('age in @accepted_ages')\n",
    "len(age_filtered_answers)"
   ]
  },
  {
   "cell_type": "markdown",
   "metadata": {},
   "source": [
    "Number and percent of discarded answers due to inapropriate age:"
   ]
  },
  {
   "cell_type": "code",
   "execution_count": 9,
   "metadata": {},
   "outputs": [
    {
     "data": {
      "text/plain": [
       "(238, 6.569141595362959)"
      ]
     },
     "execution_count": 9,
     "metadata": {},
     "output_type": "execute_result"
    }
   ],
   "source": [
    "discarded_due_to_age = len(all_answers) - len(age_filtered_answers)\n",
    "discarded_due_to_age, discarded_due_to_age / len(all_answers) * 100"
   ]
  },
  {
   "cell_type": "markdown",
   "metadata": {},
   "source": [
    "For brevity:"
   ]
  },
  {
   "cell_type": "code",
   "execution_count": 10,
   "metadata": {},
   "outputs": [],
   "source": [
    "a = age_filtered_answers"
   ]
  },
  {
   "cell_type": "markdown",
   "metadata": {},
   "source": [
    "## Categorical columns"
   ]
  },
  {
   "cell_type": "code",
   "execution_count": 11,
   "metadata": {},
   "outputs": [],
   "source": [
    "a.is_polish_scout = (a.is_polish_scout == 'Tak')\n",
    "a.is_instructor = (a.is_instructor == 'Tak')\n",
    "a = a.assign(is_women=(a.sex == 'Kobieta'))\n",
    "\n",
    "# 'Nie' means no, 'Tak' or desctiption means yes\n",
    "a = a.assign(first_aid_course_participated=(a.first_aid_course != 'Nie'))"
   ]
  },
  {
   "cell_type": "code",
   "execution_count": 12,
   "metadata": {},
   "outputs": [],
   "source": [
    "residence_place_sizes = {\n",
    "    'Wieś': 1,\n",
    "    'Miasto do 50 tys. mieszkańców': 2,\n",
    "    'Miasto od 50 do 100 tys. mieszkańców': 3,\n",
    "    'Miasto powyżej 100 tys. mieszkańców': 4 \n",
    "}\n",
    "\n",
    "a = a.assign(\n",
    "    size_of_residence_place=a.place_of_residence.map(residence_place_sizes)\n",
    ")"
   ]
  },
  {
   "cell_type": "markdown",
   "metadata": {},
   "source": [
    "## Time spent outside"
   ]
  },
  {
   "cell_type": "code",
   "execution_count": 13,
   "metadata": {},
   "outputs": [
    {
     "name": "stdout",
     "output_type": "stream",
     "text": [
      "Clamping number of weeks in nature to 52, as some ppl have entered\n",
      "ridiculus values as 12740171513718.0 days which were skewing the data distribution\n"
     ]
    }
   ],
   "source": [
    "time_in_nature_threshold = 52 # there are 52 weeks in a year, no more\n",
    "\n",
    "print(f'Clamping number of weeks in nature to {time_in_nature_threshold}, as some ppl have entered')\n",
    "print(f'ridiculus values as {max(a[\"time_in_nature\"])} days which were skewing the data distribution')\n",
    "\n",
    "a = a.assign(time_in_nature_prunned=Series(\n",
    "    (value if value <= time_in_nature_threshold else np.NaN)\n",
    "    for value in a['time_in_nature']\n",
    ").values)\n",
    "\n",
    "a = a.assign(time_in_nature_clamped=Series(\n",
    "    min(value, time_in_nature_threshold)\n",
    "    for value in a['time_in_nature']\n",
    ").values)"
   ]
  },
  {
   "cell_type": "code",
   "execution_count": 14,
   "metadata": {},
   "outputs": [
    {
     "data": {
      "text/plain": [
       "875     1.274017e+13\n",
       "3171    5.638474e+08\n",
       "152     2.615282e+08\n",
       "1444    5.677744e+06\n",
       "2924    1.000000e+04\n",
       "634     5.000000e+03\n",
       "1132    6.660000e+02\n",
       "2440    3.650000e+02\n",
       "566     3.650000e+02\n",
       "981     3.650000e+02\n",
       "Name: time_in_nature, dtype: float64"
      ]
     },
     "execution_count": 14,
     "metadata": {},
     "output_type": "execute_result"
    }
   ],
   "source": [
    "a[\"time_in_nature\"].sort_values(ascending=False).head(10)"
   ]
  },
  {
   "cell_type": "markdown",
   "metadata": {},
   "source": [
    "### Extralarge number of tick bites"
   ]
  },
  {
   "cell_type": "code",
   "execution_count": 15,
   "metadata": {},
   "outputs": [
    {
     "name": "stdout",
     "output_type": "stream",
     "text": [
      "Clamping number of bites to 99th percentile (40.0), as some ppl have\n",
      "entered ridiculus values as 28384482838485 bites which were skewing the data distribution\n"
     ]
    },
    {
     "data": {
      "text/plain": [
       "'\\na.tick_bites = Series(\\n    (value if value <= bites_threshold else np.NaN)\\n    for value in tick_bites\\n).values\\n'"
      ]
     },
     "execution_count": 15,
     "metadata": {},
     "output_type": "execute_result"
    }
   ],
   "source": [
    "tick_bites = a['tick_bites']\n",
    "bites_threshold = np.percentile(tick_bites, 99)\n",
    "print(f'Clamping number of bites to 99th percentile ({bites_threshold}), as some ppl have')\n",
    "print(f'entered ridiculus values as {max(tick_bites)} bites which were skewing the data distribution')\n",
    "\n",
    "'''\n",
    "a.tick_bites = Series(\n",
    "    (value if value <= bites_threshold else np.NaN)\n",
    "    for value in tick_bites\n",
    ").values\n",
    "'''"
   ]
  },
  {
   "cell_type": "code",
   "execution_count": 16,
   "metadata": {},
   "outputs": [
    {
     "data": {
      "text/plain": [
       "3171    28384482838485\n",
       "1775          17362727\n",
       "2022          10000000\n",
       "1518           9999999\n",
       "1810             47887\n",
       "781               1233\n",
       "1850               180\n",
       "3517               150\n",
       "3086               100\n",
       "1264               100\n",
       "Name: tick_bites, dtype: int64"
      ]
     },
     "execution_count": 16,
     "metadata": {},
     "output_type": "execute_result"
    }
   ],
   "source": [
    "tick_bites.sort_values(ascending=False).head(10)"
   ]
  },
  {
   "cell_type": "code",
   "execution_count": 17,
   "metadata": {},
   "outputs": [
    {
     "name": "stdout",
     "output_type": "stream",
     "text": [
      "MAD: 16765788747.909801, median: 1.0, mean: 8385382647.429837 reported number of tick bites.\n"
     ]
    }
   ],
   "source": [
    "print(f'MAD: {tick_bites.mad()}, median: {tick_bites.median()}, mean: {tick_bites.mean()} reported number of tick bites.')"
   ]
  },
  {
   "cell_type": "markdown",
   "metadata": {},
   "source": [
    "In my Master thesis I used percentile to clear data from abnormally high numbers of tick bites. Now I decided to set cut-off point to 200 tick bites. It decreased the number of removed records to 6 people who reported tick bites of 1233 of more."
   ]
  },
  {
   "cell_type": "code",
   "execution_count": 18,
   "metadata": {},
   "outputs": [],
   "source": [
    "a.tick_bites = Series(\n",
    "    (value if value <= 200 else np.NaN)\n",
    "    for value in tick_bites\n",
    ").values"
   ]
  },
  {
   "cell_type": "markdown",
   "metadata": {},
   "source": [
    "### Discarding incorrect answers"
   ]
  },
  {
   "cell_type": "code",
   "execution_count": 19,
   "metadata": {},
   "outputs": [
    {
     "data": {
      "text/plain": [
       "3385"
      ]
     },
     "execution_count": 19,
     "metadata": {},
     "output_type": "execute_result"
    }
   ],
   "source": [
    "n_in_a_before_cleaning = len(a)\n",
    "n_in_a_before_cleaning"
   ]
  },
  {
   "cell_type": "code",
   "execution_count": 20,
   "metadata": {},
   "outputs": [],
   "source": [
    "# high-confidence subset (excluding any invalid answers)\n",
    "a = a.dropna(how='any', subset=['tick_bites', 'time_in_nature_prunned'])"
   ]
  },
  {
   "cell_type": "code",
   "execution_count": 21,
   "metadata": {},
   "outputs": [
    {
     "data": {
      "text/plain": [
       "3322"
      ]
     },
     "execution_count": 21,
     "metadata": {},
     "output_type": "execute_result"
    }
   ],
   "source": [
    "n_in_a_after_cleaning = len(a)\n",
    "n_in_a_after_cleaning"
   ]
  },
  {
   "cell_type": "code",
   "execution_count": 22,
   "metadata": {},
   "outputs": [
    {
     "name": "stdout",
     "output_type": "stream",
     "text": [
      "Number of answers discarded due to abnormally high tick bites and time spent in nature: 63\n"
     ]
    }
   ],
   "source": [
    "print(\n",
    "    f'Number of answers discarded due to abnormally high tick bites and time '\n",
    "    f'spent in nature: {n_in_a_before_cleaning - n_in_a_after_cleaning}'\n",
    ")"
   ]
  },
  {
   "cell_type": "markdown",
   "metadata": {},
   "source": [
    "## Other cleaning"
   ]
  },
  {
   "cell_type": "code",
   "execution_count": 23,
   "metadata": {},
   "outputs": [],
   "source": [
    "a.years_in_scouting = a.years_in_scouting.replace(2008, 10)\n",
    "a =a[~a.is_polish_scout | (a.camps_count <= 75)]\n",
    "a = a.reset_index()\n",
    "\n",
    "all_answers = a"
   ]
  }
 ],
 "metadata": {
  "kernelspec": {
   "display_name": "Python 3",
   "language": "python",
   "name": "python3"
  },
  "language_info": {
   "codemirror_mode": {
    "name": "ipython",
    "version": 3
   },
   "file_extension": ".py",
   "mimetype": "text/x-python",
   "name": "python",
   "nbconvert_exporter": "python",
   "pygments_lexer": "ipython3",
   "version": "3.7.6"
  }
 },
 "nbformat": 4,
 "nbformat_minor": 4
}
