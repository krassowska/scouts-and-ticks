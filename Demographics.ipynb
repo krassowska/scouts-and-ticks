{
 "cells": [
  {
   "cell_type": "code",
   "execution_count": 1,
   "metadata": {},
   "outputs": [],
   "source": [
    "from pandas import read_csv\n",
    "from statistics import mean, median\n",
    "import seaborn as sns\n",
    "import matplotlib.pyplot as plt"
   ]
  },
  {
   "cell_type": "markdown",
   "metadata": {},
   "source": [
    "## Set the theme and figure size"
   ]
  },
  {
   "cell_type": "code",
   "execution_count": 2,
   "metadata": {},
   "outputs": [],
   "source": [
    "def theme():\n",
    "    sns.set(style=\"ticks\")\n",
    "    x = 1\n",
    "    sns.set(rc={'figure.figsize': (15 / x, 10 / x)}, font_scale = 2.5 / x)\n",
    "\n",
    "\n",
    "theme()"
   ]
  },
  {
   "cell_type": "markdown",
   "metadata": {},
   "source": [
    "## Load cleaned data"
   ]
  },
  {
   "cell_type": "code",
   "execution_count": 3,
   "metadata": {},
   "outputs": [
    {
     "data": {
      "text/html": [
       "<div>\n",
       "<style scoped>\n",
       "    .dataframe tbody tr th:only-of-type {\n",
       "        vertical-align: middle;\n",
       "    }\n",
       "\n",
       "    .dataframe tbody tr th {\n",
       "        vertical-align: top;\n",
       "    }\n",
       "\n",
       "    .dataframe thead th {\n",
       "        text-align: right;\n",
       "    }\n",
       "</style>\n",
       "<table border=\"1\" class=\"dataframe\">\n",
       "  <thead>\n",
       "    <tr style=\"text-align: right;\">\n",
       "      <th></th>\n",
       "      <th>Unnamed: 0</th>\n",
       "      <th>index</th>\n",
       "      <th>Timestamp</th>\n",
       "      <th>sex</th>\n",
       "      <th>age</th>\n",
       "      <th>place_of_residence</th>\n",
       "      <th>is_polish_scout</th>\n",
       "      <th>scouting_organization</th>\n",
       "      <th>years_in_scouting</th>\n",
       "      <th>is_instructor</th>\n",
       "      <th>...</th>\n",
       "      <th>MIT_tick_jump_score</th>\n",
       "      <th>MIT_waiting_boreliosis_score</th>\n",
       "      <th>MIT_safe_score</th>\n",
       "      <th>MIT_summer_tick_score</th>\n",
       "      <th>MIT_part_tick_score</th>\n",
       "      <th>MIT_city_score</th>\n",
       "      <th>MIT_clock_score</th>\n",
       "      <th>total_score_without_images</th>\n",
       "      <th>total_score_with_images</th>\n",
       "      <th>score_as_percent</th>\n",
       "    </tr>\n",
       "  </thead>\n",
       "  <tbody>\n",
       "    <tr>\n",
       "      <th>0</th>\n",
       "      <td>0</td>\n",
       "      <td>0</td>\n",
       "      <td>2018/04/27 1:36:27 PM GMT+2</td>\n",
       "      <td>Kobieta</td>\n",
       "      <td>17</td>\n",
       "      <td>Miasto powyżej 100 tys. mieszkańców</td>\n",
       "      <td>True</td>\n",
       "      <td>ZHP</td>\n",
       "      <td>11.0</td>\n",
       "      <td>True</td>\n",
       "      <td>...</td>\n",
       "      <td>1</td>\n",
       "      <td>1</td>\n",
       "      <td>1</td>\n",
       "      <td>1</td>\n",
       "      <td>1</td>\n",
       "      <td>1</td>\n",
       "      <td>1</td>\n",
       "      <td>26.2</td>\n",
       "      <td>26.2</td>\n",
       "      <td>90.344828</td>\n",
       "    </tr>\n",
       "    <tr>\n",
       "      <th>1</th>\n",
       "      <td>1</td>\n",
       "      <td>1</td>\n",
       "      <td>2018/04/27 1:43:31 PM GMT+2</td>\n",
       "      <td>Kobieta</td>\n",
       "      <td>18</td>\n",
       "      <td>Miasto powyżej 100 tys. mieszkańców</td>\n",
       "      <td>True</td>\n",
       "      <td>ZHP</td>\n",
       "      <td>5.0</td>\n",
       "      <td>True</td>\n",
       "      <td>...</td>\n",
       "      <td>1</td>\n",
       "      <td>1</td>\n",
       "      <td>0</td>\n",
       "      <td>1</td>\n",
       "      <td>1</td>\n",
       "      <td>1</td>\n",
       "      <td>0</td>\n",
       "      <td>22.9</td>\n",
       "      <td>22.9</td>\n",
       "      <td>78.965517</td>\n",
       "    </tr>\n",
       "  </tbody>\n",
       "</table>\n",
       "<p>2 rows × 86 columns</p>\n",
       "</div>"
      ],
      "text/plain": [
       "   Unnamed: 0  index                    Timestamp      sex  age  \\\n",
       "0           0      0  2018/04/27 1:36:27 PM GMT+2  Kobieta   17   \n",
       "1           1      1  2018/04/27 1:43:31 PM GMT+2  Kobieta   18   \n",
       "\n",
       "                    place_of_residence  is_polish_scout scouting_organization  \\\n",
       "0  Miasto powyżej 100 tys. mieszkańców             True                   ZHP   \n",
       "1  Miasto powyżej 100 tys. mieszkańców             True                   ZHP   \n",
       "\n",
       "   years_in_scouting  is_instructor  ...  MIT_tick_jump_score  \\\n",
       "0               11.0           True  ...                    1   \n",
       "1                5.0           True  ...                    1   \n",
       "\n",
       "  MIT_waiting_boreliosis_score MIT_safe_score MIT_summer_tick_score  \\\n",
       "0                            1              1                     1   \n",
       "1                            1              0                     1   \n",
       "\n",
       "  MIT_part_tick_score MIT_city_score MIT_clock_score  \\\n",
       "0                   1              1               1   \n",
       "1                   1              1               0   \n",
       "\n",
       "  total_score_without_images total_score_with_images score_as_percent  \n",
       "0                       26.2                    26.2        90.344828  \n",
       "1                       22.9                    22.9        78.965517  \n",
       "\n",
       "[2 rows x 86 columns]"
      ]
     },
     "execution_count": 3,
     "metadata": {},
     "output_type": "execute_result"
    }
   ],
   "source": [
    "g = read_csv('data/cleaned_answers.csv')\n",
    "g.head(2)"
   ]
  },
  {
   "cell_type": "markdown",
   "metadata": {},
   "source": [
    "## Demographic statistics"
   ]
  },
  {
   "cell_type": "code",
   "execution_count": 4,
   "metadata": {},
   "outputs": [],
   "source": [
    "scouts = g[g.is_polish_scout]\n",
    "not_scouts = g[g.is_polish_scout == False]"
   ]
  },
  {
   "cell_type": "code",
   "execution_count": 5,
   "metadata": {},
   "outputs": [
    {
     "data": {
      "text/plain": [
       "(23.537135720233138, 22.204674220963174, 22.686833383549263)"
      ]
     },
     "execution_count": 5,
     "metadata": {},
     "output_type": "execute_result"
    }
   ],
   "source": [
    "h_mean = mean(scouts['total_score_without_images'])\n",
    "nh_mean = mean(not_scouts['total_score_without_images'])\n",
    "g_mean = mean(g['total_score_without_images'])\n",
    "h_mean, nh_mean, g_mean"
   ]
  },
  {
   "cell_type": "code",
   "execution_count": 6,
   "metadata": {},
   "outputs": [
    {
     "data": {
      "text/plain": [
       "Miasto powyżej 100 tys. mieszkańców     1094\n",
       "Wieś                                    1016\n",
       "Miasto do 50 tys. mieszkańców            765\n",
       "Miasto od 50 do 100 tys. mieszkańców     444\n",
       "Name: place_of_residence, dtype: int64"
      ]
     },
     "execution_count": 6,
     "metadata": {},
     "output_type": "execute_result"
    }
   ],
   "source": [
    "g.place_of_residence.value_counts()"
   ]
  },
  {
   "cell_type": "markdown",
   "metadata": {},
   "source": [
    "### Number of valid participants"
   ]
  },
  {
   "cell_type": "code",
   "execution_count": 7,
   "metadata": {},
   "outputs": [
    {
     "data": {
      "text/plain": [
       "3319"
      ]
     },
     "execution_count": 7,
     "metadata": {},
     "output_type": "execute_result"
    }
   ],
   "source": [
    "participants_n = len(g)\n",
    "participants_n"
   ]
  },
  {
   "cell_type": "markdown",
   "metadata": {},
   "source": [
    "### Number of women"
   ]
  },
  {
   "cell_type": "code",
   "execution_count": 8,
   "metadata": {},
   "outputs": [
    {
     "data": {
      "text/plain": [
       "count     3319\n",
       "unique       2\n",
       "top       True\n",
       "freq      2650\n",
       "Name: is_women, dtype: object"
      ]
     },
     "execution_count": 8,
     "metadata": {},
     "output_type": "execute_result"
    }
   ],
   "source": [
    "g.is_women.describe()"
   ]
  },
  {
   "cell_type": "code",
   "execution_count": 9,
   "metadata": {},
   "outputs": [
    {
     "data": {
      "text/plain": [
       "2650"
      ]
     },
     "execution_count": 9,
     "metadata": {},
     "output_type": "execute_result"
    }
   ],
   "source": [
    "len(g[g.is_women])"
   ]
  },
  {
   "cell_type": "markdown",
   "metadata": {},
   "source": [
    "Majority participants were women"
   ]
  },
  {
   "cell_type": "code",
   "execution_count": 10,
   "metadata": {},
   "outputs": [
    {
     "data": {
      "text/plain": [
       "'79.84% of participants were women.'"
      ]
     },
     "execution_count": 10,
     "metadata": {},
     "output_type": "execute_result"
    }
   ],
   "source": [
    "f'{round((len(g[g.is_women])/len(g))*100, 2)}% of participants were women.'"
   ]
  },
  {
   "cell_type": "markdown",
   "metadata": {},
   "source": [
    "### Number of scouts"
   ]
  },
  {
   "cell_type": "code",
   "execution_count": 11,
   "metadata": {},
   "outputs": [
    {
     "data": {
      "text/plain": [
       "count      3319\n",
       "unique        2\n",
       "top       False\n",
       "freq       2118\n",
       "Name: is_polish_scout, dtype: object"
      ]
     },
     "execution_count": 11,
     "metadata": {},
     "output_type": "execute_result"
    }
   ],
   "source": [
    "g.is_polish_scout.describe()"
   ]
  },
  {
   "cell_type": "code",
   "execution_count": 12,
   "metadata": {},
   "outputs": [
    {
     "data": {
      "text/plain": [
       "1201"
      ]
     },
     "execution_count": 12,
     "metadata": {},
     "output_type": "execute_result"
    }
   ],
   "source": [
    "len(g[g.is_polish_scout])"
   ]
  },
  {
   "cell_type": "markdown",
   "metadata": {},
   "source": [
    "Only about 1/3 of participants were scouts"
   ]
  },
  {
   "cell_type": "code",
   "execution_count": 13,
   "metadata": {},
   "outputs": [
    {
     "data": {
      "text/plain": [
       "'36.19% of participants were scouts.'"
      ]
     },
     "execution_count": 13,
     "metadata": {},
     "output_type": "execute_result"
    }
   ],
   "source": [
    "f'{round((len(g[g.is_polish_scout])/len(g))*100, 2)}% of participants were scouts.'"
   ]
  },
  {
   "cell_type": "markdown",
   "metadata": {},
   "source": [
    "### Age of participants"
   ]
  },
  {
   "cell_type": "code",
   "execution_count": 14,
   "metadata": {},
   "outputs": [
    {
     "data": {
      "text/plain": [
       "'Mean age of all participants was: 18.22 years.'"
      ]
     },
     "execution_count": 14,
     "metadata": {},
     "output_type": "execute_result"
    }
   ],
   "source": [
    "f'Mean age of all participants was: {round(mean(g.age), 2)} years.'"
   ]
  },
  {
   "cell_type": "code",
   "execution_count": 15,
   "metadata": {},
   "outputs": [
    {
     "data": {
      "text/plain": [
       "'Median age of all participants was: 18 years.'"
      ]
     },
     "execution_count": 15,
     "metadata": {},
     "output_type": "execute_result"
    }
   ],
   "source": [
    "f'Median age of all participants was: {median(g.age)} years.'"
   ]
  },
  {
   "cell_type": "markdown",
   "metadata": {},
   "source": [
    "Mean and median age of participants are comparable so I expect little skew in the age distribution."
   ]
  },
  {
   "cell_type": "code",
   "execution_count": 16,
   "metadata": {},
   "outputs": [],
   "source": [
    "s = g.age.std()"
   ]
  },
  {
   "cell_type": "markdown",
   "metadata": {},
   "source": [
    "Assuming that age distribution is normal I would expect 95% of participants to be in this age group:"
   ]
  },
  {
   "cell_type": "code",
   "execution_count": 17,
   "metadata": {},
   "outputs": [
    {
     "data": {
      "text/plain": [
       "(15.458138118576665, 20.980548232733973)"
      ]
     },
     "execution_count": 17,
     "metadata": {},
     "output_type": "execute_result"
    }
   ],
   "source": [
    "mean(g.age) - 2 * s, mean(g.age) + 2 * s"
   ]
  },
  {
   "cell_type": "code",
   "execution_count": 18,
   "metadata": {},
   "outputs": [
    {
     "data": {
      "image/png": "[encoded data removed]",
      "text/plain": [
       "<Figure size 1080x720 with 2 Axes>"
      ]
     },
     "metadata": {},
     "output_type": "display_data"
    }
   ],
   "source": [
    "fig, ax1 = plt.subplots()\n",
    "ax2 = ax1.twinx()\n",
    "sns.distplot(g.age, kde=False, ax=ax1, hist_kws={'rwidth': 0.5})\n",
    "sns.distplot(g.age, hist=False, ax=ax2, kde_kws={'bw': .5});"
   ]
  }
 ],
 "metadata": {
  "kernelspec": {
   "display_name": "Python 3",
   "language": "python",
   "name": "python3"
  },
  "language_info": {
   "codemirror_mode": {
    "name": "ipython",
    "version": 3
   },
   "file_extension": ".py",
   "mimetype": "text/x-python",
   "name": "python",
   "nbconvert_exporter": "python",
   "pygments_lexer": "ipython3",
   "version": "3.7.6"
  }
 },
 "nbformat": 4,
 "nbformat_minor": 4
}
