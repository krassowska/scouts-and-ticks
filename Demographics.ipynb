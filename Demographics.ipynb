{
 "cells": [
  {
   "cell_type": "code",
   "execution_count": 1,
   "metadata": {},
   "outputs": [],
   "source": [
    "from pandas import read_csv, read_excel, Series, concat, wide_to_long\n",
    "from statistics import mean, median\n",
    "import seaborn as sns\n",
    "import numpy as np\n",
    "import matplotlib.pyplot as plt\n",
    "from helpers.plots import labels, theme"
   ]
  },
  {
   "cell_type": "code",
   "execution_count": 2,
   "metadata": {},
   "outputs": [],
   "source": [
    "theme()"
   ]
  },
  {
   "cell_type": "markdown",
   "metadata": {},
   "source": [
    "## Load cleaned data"
   ]
  },
  {
   "cell_type": "code",
   "execution_count": 3,
   "metadata": {},
   "outputs": [
    {
     "data": {
      "text/html": [
       "<div>\n",
       "<style scoped>\n",
       "    .dataframe tbody tr th:only-of-type {\n",
       "        vertical-align: middle;\n",
       "    }\n",
       "\n",
       "    .dataframe tbody tr th {\n",
       "        vertical-align: top;\n",
       "    }\n",
       "\n",
       "    .dataframe thead th {\n",
       "        text-align: right;\n",
       "    }\n",
       "</style>\n",
       "<table border=\"1\" class=\"dataframe\">\n",
       "  <thead>\n",
       "    <tr style=\"text-align: right;\">\n",
       "      <th></th>\n",
       "      <th>Unnamed: 0</th>\n",
       "      <th>index</th>\n",
       "      <th>Timestamp</th>\n",
       "      <th>sex</th>\n",
       "      <th>age</th>\n",
       "      <th>place_of_residence</th>\n",
       "      <th>is_polish_scout</th>\n",
       "      <th>scouting_organization</th>\n",
       "      <th>years_in_scouting</th>\n",
       "      <th>is_instructor</th>\n",
       "      <th>...</th>\n",
       "      <th>MIT_tick_jump_score</th>\n",
       "      <th>MIT_waiting_boreliosis_score</th>\n",
       "      <th>MIT_safe_score</th>\n",
       "      <th>MIT_summer_tick_score</th>\n",
       "      <th>MIT_part_tick_score</th>\n",
       "      <th>MIT_city_score</th>\n",
       "      <th>MIT_clock_score</th>\n",
       "      <th>total_score_without_images</th>\n",
       "      <th>total_score_with_images</th>\n",
       "      <th>score_as_percent</th>\n",
       "    </tr>\n",
       "  </thead>\n",
       "  <tbody>\n",
       "    <tr>\n",
       "      <th>0</th>\n",
       "      <td>0</td>\n",
       "      <td>0</td>\n",
       "      <td>2018/04/27 1:36:27 PM GMT+2</td>\n",
       "      <td>Kobieta</td>\n",
       "      <td>17</td>\n",
       "      <td>Miasto powyżej 100 tys. mieszkańców</td>\n",
       "      <td>True</td>\n",
       "      <td>ZHP</td>\n",
       "      <td>11.0</td>\n",
       "      <td>True</td>\n",
       "      <td>...</td>\n",
       "      <td>1</td>\n",
       "      <td>1</td>\n",
       "      <td>1</td>\n",
       "      <td>1</td>\n",
       "      <td>1</td>\n",
       "      <td>1</td>\n",
       "      <td>1</td>\n",
       "      <td>26.2</td>\n",
       "      <td>26.2</td>\n",
       "      <td>90.344828</td>\n",
       "    </tr>\n",
       "    <tr>\n",
       "      <th>1</th>\n",
       "      <td>1</td>\n",
       "      <td>1</td>\n",
       "      <td>2018/04/27 1:43:31 PM GMT+2</td>\n",
       "      <td>Kobieta</td>\n",
       "      <td>18</td>\n",
       "      <td>Miasto powyżej 100 tys. mieszkańców</td>\n",
       "      <td>True</td>\n",
       "      <td>ZHP</td>\n",
       "      <td>5.0</td>\n",
       "      <td>True</td>\n",
       "      <td>...</td>\n",
       "      <td>1</td>\n",
       "      <td>1</td>\n",
       "      <td>0</td>\n",
       "      <td>1</td>\n",
       "      <td>1</td>\n",
       "      <td>1</td>\n",
       "      <td>0</td>\n",
       "      <td>22.9</td>\n",
       "      <td>22.9</td>\n",
       "      <td>78.965517</td>\n",
       "    </tr>\n",
       "  </tbody>\n",
       "</table>\n",
       "<p>2 rows × 86 columns</p>\n",
       "</div>"
      ],
      "text/plain": [
       "   Unnamed: 0  index                    Timestamp      sex  age  \\\n",
       "0           0      0  2018/04/27 1:36:27 PM GMT+2  Kobieta   17   \n",
       "1           1      1  2018/04/27 1:43:31 PM GMT+2  Kobieta   18   \n",
       "\n",
       "                    place_of_residence  is_polish_scout scouting_organization  \\\n",
       "0  Miasto powyżej 100 tys. mieszkańców             True                   ZHP   \n",
       "1  Miasto powyżej 100 tys. mieszkańców             True                   ZHP   \n",
       "\n",
       "   years_in_scouting  is_instructor  ...  MIT_tick_jump_score  \\\n",
       "0               11.0           True  ...                    1   \n",
       "1                5.0           True  ...                    1   \n",
       "\n",
       "  MIT_waiting_boreliosis_score MIT_safe_score MIT_summer_tick_score  \\\n",
       "0                            1              1                     1   \n",
       "1                            1              0                     1   \n",
       "\n",
       "  MIT_part_tick_score MIT_city_score MIT_clock_score  \\\n",
       "0                   1              1               1   \n",
       "1                   1              1               0   \n",
       "\n",
       "  total_score_without_images total_score_with_images score_as_percent  \n",
       "0                       26.2                    26.2        90.344828  \n",
       "1                       22.9                    22.9        78.965517  \n",
       "\n",
       "[2 rows x 86 columns]"
      ]
     },
     "execution_count": 3,
     "metadata": {},
     "output_type": "execute_result"
    }
   ],
   "source": [
    "g = read_csv('data/cleaned_answers.csv')\n",
    "g.head(2)"
   ]
  },
  {
   "cell_type": "markdown",
   "metadata": {},
   "source": [
    "## Demographic statistics"
   ]
  },
  {
   "cell_type": "code",
   "execution_count": 4,
   "metadata": {},
   "outputs": [],
   "source": [
    "scouts = g[g.is_polish_scout]\n",
    "not_scouts = g[g.is_polish_scout == False]"
   ]
  },
  {
   "cell_type": "code",
   "execution_count": 5,
   "metadata": {},
   "outputs": [
    {
     "data": {
      "text/plain": [
       "(23.537135720233138, 22.204674220963174, 22.686833383549263)"
      ]
     },
     "execution_count": 5,
     "metadata": {},
     "output_type": "execute_result"
    }
   ],
   "source": [
    "h_mean = mean(scouts['total_score_without_images'])\n",
    "nh_mean = mean(not_scouts['total_score_without_images'])\n",
    "g_mean = mean(g['total_score_without_images'])\n",
    "h_mean, nh_mean, g_mean"
   ]
  },
  {
   "cell_type": "code",
   "execution_count": 6,
   "metadata": {},
   "outputs": [
    {
     "data": {
      "text/plain": [
       "Miasto powyżej 100 tys. mieszkańców     1094\n",
       "Wieś                                    1016\n",
       "Miasto do 50 tys. mieszkańców            765\n",
       "Miasto od 50 do 100 tys. mieszkańców     444\n",
       "Name: place_of_residence, dtype: int64"
      ]
     },
     "execution_count": 6,
     "metadata": {},
     "output_type": "execute_result"
    }
   ],
   "source": [
    "g.place_of_residence.value_counts()"
   ]
  },
  {
   "cell_type": "markdown",
   "metadata": {},
   "source": [
    "### Number of valid participants"
   ]
  },
  {
   "cell_type": "code",
   "execution_count": 7,
   "metadata": {},
   "outputs": [
    {
     "data": {
      "text/plain": [
       "3319"
      ]
     },
     "execution_count": 7,
     "metadata": {},
     "output_type": "execute_result"
    }
   ],
   "source": [
    "participants_n = len(g)\n",
    "participants_n"
   ]
  },
  {
   "cell_type": "markdown",
   "metadata": {},
   "source": [
    "### Number of women"
   ]
  },
  {
   "cell_type": "code",
   "execution_count": 8,
   "metadata": {},
   "outputs": [
    {
     "data": {
      "text/plain": [
       "count     3319\n",
       "unique       2\n",
       "top       True\n",
       "freq      2650\n",
       "Name: is_women, dtype: object"
      ]
     },
     "execution_count": 8,
     "metadata": {},
     "output_type": "execute_result"
    }
   ],
   "source": [
    "g.is_women.describe()"
   ]
  },
  {
   "cell_type": "code",
   "execution_count": 9,
   "metadata": {},
   "outputs": [
    {
     "data": {
      "text/plain": [
       "2650"
      ]
     },
     "execution_count": 9,
     "metadata": {},
     "output_type": "execute_result"
    }
   ],
   "source": [
    "len(g[g.is_women])"
   ]
  },
  {
   "cell_type": "markdown",
   "metadata": {},
   "source": [
    "Majority participants were women"
   ]
  },
  {
   "cell_type": "code",
   "execution_count": 10,
   "metadata": {},
   "outputs": [
    {
     "data": {
      "text/plain": [
       "'79.84% of participants were women.'"
      ]
     },
     "execution_count": 10,
     "metadata": {},
     "output_type": "execute_result"
    }
   ],
   "source": [
    "f'{round((len(g[g.is_women])/len(g))*100, 2)}% of participants were women.'"
   ]
  },
  {
   "cell_type": "markdown",
   "metadata": {},
   "source": [
    "### Number of scouts"
   ]
  },
  {
   "cell_type": "code",
   "execution_count": 11,
   "metadata": {},
   "outputs": [
    {
     "data": {
      "text/plain": [
       "count      3319\n",
       "unique        2\n",
       "top       False\n",
       "freq       2118\n",
       "Name: is_polish_scout, dtype: object"
      ]
     },
     "execution_count": 11,
     "metadata": {},
     "output_type": "execute_result"
    }
   ],
   "source": [
    "g.is_polish_scout.describe()"
   ]
  },
  {
   "cell_type": "code",
   "execution_count": 12,
   "metadata": {},
   "outputs": [
    {
     "data": {
      "text/plain": [
       "1201"
      ]
     },
     "execution_count": 12,
     "metadata": {},
     "output_type": "execute_result"
    }
   ],
   "source": [
    "len(g[g.is_polish_scout])"
   ]
  },
  {
   "cell_type": "markdown",
   "metadata": {},
   "source": [
    "Only about 1/3 of participants were scouts"
   ]
  },
  {
   "cell_type": "code",
   "execution_count": 13,
   "metadata": {},
   "outputs": [
    {
     "data": {
      "text/plain": [
       "'36.19% of participants were scouts.'"
      ]
     },
     "execution_count": 13,
     "metadata": {},
     "output_type": "execute_result"
    }
   ],
   "source": [
    "f'{round((len(g[g.is_polish_scout])/len(g))*100, 2)}% of participants were scouts.'"
   ]
  },
  {
   "cell_type": "markdown",
   "metadata": {},
   "source": [
    "### Age of participants"
   ]
  },
  {
   "cell_type": "code",
   "execution_count": 14,
   "metadata": {},
   "outputs": [
    {
     "data": {
      "text/plain": [
       "'Mean age of all participants was: 18.22 years.'"
      ]
     },
     "execution_count": 14,
     "metadata": {},
     "output_type": "execute_result"
    }
   ],
   "source": [
    "f'Mean age of all participants was: {round(mean(g.age), 2)} years.'"
   ]
  },
  {
   "cell_type": "code",
   "execution_count": 15,
   "metadata": {},
   "outputs": [
    {
     "data": {
      "text/plain": [
       "'Median age of all participants was: 18 years.'"
      ]
     },
     "execution_count": 15,
     "metadata": {},
     "output_type": "execute_result"
    }
   ],
   "source": [
    "f'Median age of all participants was: {median(g.age)} years.'"
   ]
  },
  {
   "cell_type": "markdown",
   "metadata": {},
   "source": [
    "Mean and median age of participants are comparable so I expect little skew in the age distribution."
   ]
  },
  {
   "cell_type": "code",
   "execution_count": 16,
   "metadata": {},
   "outputs": [],
   "source": [
    "s = g.age.std()"
   ]
  },
  {
   "cell_type": "markdown",
   "metadata": {},
   "source": [
    "Assuming that age distribution is normal I would expect 95% of participants to be in this age group:"
   ]
  },
  {
   "cell_type": "code",
   "execution_count": 17,
   "metadata": {},
   "outputs": [
    {
     "data": {
      "text/plain": [
       "(15.458138118576665, 20.980548232733973)"
      ]
     },
     "execution_count": 17,
     "metadata": {},
     "output_type": "execute_result"
    }
   ],
   "source": [
    "mean(g.age) - 2 * s, mean(g.age) + 2 * s"
   ]
  },
  {
   "cell_type": "code",
   "execution_count": 18,
   "metadata": {},
   "outputs": [
    {
     "data": {
      "image/png": "[encoded data removed]",
      "text/plain": [
       "<Figure size 1080x720 with 2 Axes>"
      ]
     },
     "metadata": {},
     "output_type": "display_data"
    }
   ],
   "source": [
    "fig, ax1 = plt.subplots()\n",
    "ax2 = ax1.twinx()\n",
    "sns.distplot(g.age, kde=False, ax=ax1, hist_kws={'rwidth': 0.5})\n",
    "sns.distplot(g.age, hist=False, ax=ax2, kde_kws={'bw': .5});"
   ]
  },
  {
   "cell_type": "code",
   "execution_count": 19,
   "metadata": {},
   "outputs": [
    {
     "data": {
      "text/plain": [
       "count    3319.000000\n",
       "mean       18.219343\n",
       "std         1.380603\n",
       "min        16.000000\n",
       "25%        17.000000\n",
       "50%        18.000000\n",
       "75%        19.000000\n",
       "max        21.000000\n",
       "Name: age, dtype: float64"
      ]
     },
     "execution_count": 19,
     "metadata": {},
     "output_type": "execute_result"
    }
   ],
   "source": [
    "g.age.describe()"
   ]
  },
  {
   "cell_type": "markdown",
   "metadata": {},
   "source": [
    "### Age distribution between scouts and control group"
   ]
  },
  {
   "cell_type": "markdown",
   "metadata": {},
   "source": [
    "Those data were used in my master thesis. The data are from 2017 as 2018 data were not available at the time of writing my master thesis. Now I have decided to use 2018 data as they become available.\n",
    "\n",
    "GUS 2017 and 2018 data comparison is available in the [GUS_17_and_18](GUS_17_and_18.ipynb) notebook."
   ]
  },
  {
   "cell_type": "markdown",
   "metadata": {},
   "source": [
    "**Data 2018 source:** [Central Statistical Office in Poland, *Ludność. Stan i struktura oraz ruch naturalny w przekroju terytorialnym w 2018 r. Stan w dniu 31 XII*](https://stat.gov.pl/obszary-tematyczne/ludnosc/ludnosc/ludnosc-stan-i-struktura-oraz-ruch-naturalny-w-przekroju-terytorialnym-w-2018-r-stan-w-dniu-31-xii,6,25.html)\n"
   ]
  },
  {
   "cell_type": "code",
   "execution_count": 20,
   "metadata": {},
   "outputs": [],
   "source": [
    "gus_2018_all = read_excel(\n",
    "    \"data/03_ludnosć_struktura wg wieku_RD'2019.xls\",\n",
    "    sheet_name=\"Tablica 15 \", index_col=0\n",
    ")"
   ]
  },
  {
   "cell_type": "code",
   "execution_count": 21,
   "metadata": {},
   "outputs": [
    {
     "data": {
      "text/html": [
       "<div>\n",
       "<style scoped>\n",
       "    .dataframe tbody tr th:only-of-type {\n",
       "        vertical-align: middle;\n",
       "    }\n",
       "\n",
       "    .dataframe tbody tr th {\n",
       "        vertical-align: top;\n",
       "    }\n",
       "\n",
       "    .dataframe thead th {\n",
       "        text-align: right;\n",
       "    }\n",
       "</style>\n",
       "<table border=\"1\" class=\"dataframe\">\n",
       "  <thead>\n",
       "    <tr style=\"text-align: right;\">\n",
       "      <th></th>\n",
       "      <th>Unnamed: 1</th>\n",
       "      <th>Unnamed: 2</th>\n",
       "      <th>Unnamed: 3</th>\n",
       "      <th>Unnamed: 4</th>\n",
       "      <th>Unnamed: 5</th>\n",
       "      <th>Unnamed: 6</th>\n",
       "      <th>Unnamed: 7</th>\n",
       "      <th>Unnamed: 8</th>\n",
       "      <th>Unnamed: 9</th>\n",
       "    </tr>\n",
       "  </thead>\n",
       "  <tbody>\n",
       "    <tr>\n",
       "      <th>WIEK                       \\nAGE</th>\n",
       "      <td>Ogółem   Total</td>\n",
       "      <td>Mężczyźni   Males</td>\n",
       "      <td>Kobiety  Females</td>\n",
       "      <td>Miasta   Urban areas</td>\n",
       "      <td>NaN</td>\n",
       "      <td>NaN</td>\n",
       "      <td>Wieś   Rural areas</td>\n",
       "      <td>NaN</td>\n",
       "      <td>NaN</td>\n",
       "    </tr>\n",
       "    <tr>\n",
       "      <th>NaN</th>\n",
       "      <td>NaN</td>\n",
       "      <td>NaN</td>\n",
       "      <td>NaN</td>\n",
       "      <td>razem  total</td>\n",
       "      <td>mężczyźni  males</td>\n",
       "      <td>kobiety females</td>\n",
       "      <td>razem  total</td>\n",
       "      <td>mężczyźni  males</td>\n",
       "      <td>kobiety females</td>\n",
       "    </tr>\n",
       "  </tbody>\n",
       "</table>\n",
       "</div>"
      ],
      "text/plain": [
       "                                      Unnamed: 1         Unnamed: 2  \\\n",
       "WIEK                       \\nAGE  Ogółem   Total  Mężczyźni   Males   \n",
       "NaN                                          NaN                NaN   \n",
       "\n",
       "                                        Unnamed: 3            Unnamed: 4  \\\n",
       "WIEK                       \\nAGE  Kobiety  Females  Miasta   Urban areas   \n",
       "NaN                                            NaN          razem  total   \n",
       "\n",
       "                                        Unnamed: 5       Unnamed: 6  \\\n",
       "WIEK                       \\nAGE               NaN              NaN   \n",
       "NaN                               mężczyźni  males  kobiety females   \n",
       "\n",
       "                                          Unnamed: 7        Unnamed: 8  \\\n",
       "WIEK                       \\nAGE  Wieś   Rural areas               NaN   \n",
       "NaN                                     razem  total  mężczyźni  males   \n",
       "\n",
       "                                       Unnamed: 9  \n",
       "WIEK                       \\nAGE              NaN  \n",
       "NaN                               kobiety females  "
      ]
     },
     "execution_count": 21,
     "metadata": {},
     "output_type": "execute_result"
    }
   ],
   "source": [
    "gus_2018_all.iloc[[5, 6]]"
   ]
  },
  {
   "cell_type": "code",
   "execution_count": 22,
   "metadata": {},
   "outputs": [],
   "source": [
    "gus_2018 = gus_2018_all.loc[range(16, 22)]"
   ]
  },
  {
   "cell_type": "code",
   "execution_count": 23,
   "metadata": {},
   "outputs": [
    {
     "data": {
      "text/html": [
       "<div>\n",
       "<style scoped>\n",
       "    .dataframe tbody tr th:only-of-type {\n",
       "        vertical-align: middle;\n",
       "    }\n",
       "\n",
       "    .dataframe tbody tr th {\n",
       "        vertical-align: top;\n",
       "    }\n",
       "\n",
       "    .dataframe thead th {\n",
       "        text-align: right;\n",
       "    }\n",
       "</style>\n",
       "<table border=\"1\" class=\"dataframe\">\n",
       "  <thead>\n",
       "    <tr style=\"text-align: right;\">\n",
       "      <th></th>\n",
       "      <th>age</th>\n",
       "      <th>total</th>\n",
       "      <th>males</th>\n",
       "      <th>females</th>\n",
       "      <th>city_total</th>\n",
       "      <th>city_males</th>\n",
       "      <th>city_females</th>\n",
       "      <th>rural_total</th>\n",
       "      <th>rural_male</th>\n",
       "      <th>rural_female</th>\n",
       "    </tr>\n",
       "  </thead>\n",
       "  <tbody>\n",
       "    <tr>\n",
       "      <th>0</th>\n",
       "      <td>16</td>\n",
       "      <td>353738</td>\n",
       "      <td>181515</td>\n",
       "      <td>172223</td>\n",
       "      <td>195234</td>\n",
       "      <td>99504</td>\n",
       "      <td>95730</td>\n",
       "      <td>158504</td>\n",
       "      <td>82011</td>\n",
       "      <td>76493</td>\n",
       "    </tr>\n",
       "    <tr>\n",
       "      <th>1</th>\n",
       "      <td>17</td>\n",
       "      <td>366102</td>\n",
       "      <td>187690</td>\n",
       "      <td>178412</td>\n",
       "      <td>201651</td>\n",
       "      <td>102767</td>\n",
       "      <td>98884</td>\n",
       "      <td>164451</td>\n",
       "      <td>84923</td>\n",
       "      <td>79528</td>\n",
       "    </tr>\n",
       "  </tbody>\n",
       "</table>\n",
       "</div>"
      ],
      "text/plain": [
       "   age   total   males females city_total city_males city_females rural_total  \\\n",
       "0   16  353738  181515  172223     195234      99504        95730      158504   \n",
       "1   17  366102  187690  178412     201651     102767        98884      164451   \n",
       "\n",
       "  rural_male rural_female  \n",
       "0      82011        76493  \n",
       "1      84923        79528  "
      ]
     },
     "execution_count": 23,
     "metadata": {},
     "output_type": "execute_result"
    }
   ],
   "source": [
    "gus_2018 = gus_2018.reset_index()\n",
    "gus_2018.columns = (\n",
    "    'age total males females city_total city_males '\n",
    "    'city_females rural_total rural_male rural_female'\n",
    ").split()\n",
    "gus_2018.head(2)"
   ]
  },
  {
   "cell_type": "code",
   "execution_count": 24,
   "metadata": {},
   "outputs": [
    {
     "data": {
      "text/plain": [
       "0    16\n",
       "0    16\n",
       "0    16\n",
       "0    16\n",
       "0    16\n",
       "     ..\n",
       "5    21\n",
       "5    21\n",
       "5    21\n",
       "5    21\n",
       "5    21\n",
       "Name: age, Length: 2270127, dtype: int64"
      ]
     },
     "execution_count": 24,
     "metadata": {},
     "output_type": "execute_result"
    }
   ],
   "source": [
    "gus_age = np.repeat(gus_2018.age, gus_2018.total)\n",
    "gus_age"
   ]
  },
  {
   "cell_type": "code",
   "execution_count": 25,
   "metadata": {},
   "outputs": [
    {
     "data": {
      "image/png": "[encoded data removed]",
      "text/plain": [
       "<Figure size 1080x720 with 1 Axes>"
      ]
     },
     "metadata": {},
     "output_type": "display_data"
    }
   ],
   "source": [
    "sns.kdeplot(g[~g.is_polish_scout].age, bw=.5, label=\"Grupa kontrolna\", shade=True)\n",
    "sns.kdeplot(gus_age, bw=.5, label=\"Populacja wg GUS\", shade=True);"
   ]
  },
  {
   "cell_type": "markdown",
   "metadata": {},
   "source": [
    "### Sex distribution comparison"
   ]
  },
  {
   "cell_type": "markdown",
   "metadata": {},
   "source": [
    "Female to male ratio from GUS 2018 data"
   ]
  },
  {
   "cell_type": "code",
   "execution_count": 26,
   "metadata": {},
   "outputs": [
    {
     "data": {
      "text/plain": [
       "0.9525018147790097"
      ]
     },
     "execution_count": 26,
     "metadata": {},
     "output_type": "execute_result"
    }
   ],
   "source": [
    "t = gus_2018[['males', 'females']].apply(sum)\n",
    "female_male_ratio_gus = t['females'] / t['males']\n",
    "female_male_ratio_gus"
   ]
  },
  {
   "cell_type": "markdown",
   "metadata": {},
   "source": [
    "Female to male ratio according to ZHP 2018 data\n",
    "\n",
    "Data: http://hib.zhp.pl/zhp-w-liczbach/\n",
    "\n",
    "In my Master Thesis I used data from 2017 as 2018 was not available at that time.\n",
    "\n",
    "`female_male_ratio_zhp = 1.44`"
   ]
  },
  {
   "cell_type": "code",
   "execution_count": 27,
   "metadata": {},
   "outputs": [
    {
     "data": {
      "text/html": [
       "<div>\n",
       "<style scoped>\n",
       "    .dataframe tbody tr th:only-of-type {\n",
       "        vertical-align: middle;\n",
       "    }\n",
       "\n",
       "    .dataframe tbody tr th {\n",
       "        vertical-align: top;\n",
       "    }\n",
       "\n",
       "    .dataframe thead th {\n",
       "        text-align: right;\n",
       "    }\n",
       "</style>\n",
       "<table border=\"1\" class=\"dataframe\">\n",
       "  <thead>\n",
       "    <tr style=\"text-align: right;\">\n",
       "      <th></th>\n",
       "      <th>Data zliczenia</th>\n",
       "      <th>Jednostka</th>\n",
       "      <th>l. ogółem</th>\n",
       "      <th>l. og. K</th>\n",
       "      <th>l. og. M</th>\n",
       "      <th>l. NS K</th>\n",
       "      <th>l. NS M</th>\n",
       "      <th>brak</th>\n",
       "      <th>Obiet. K</th>\n",
       "      <th>Obiet. M</th>\n",
       "      <th>...</th>\n",
       "      <th>HS K</th>\n",
       "      <th>HS M</th>\n",
       "      <th>Wędr K</th>\n",
       "      <th>Wędr M</th>\n",
       "      <th>Wędr/Inst K</th>\n",
       "      <th>Wędr/Inst M</th>\n",
       "      <th>Inst K</th>\n",
       "      <th>Inst M</th>\n",
       "      <th>Sen/Inst K</th>\n",
       "      <th>Sen/Inst M</th>\n",
       "    </tr>\n",
       "    <tr>\n",
       "      <th>Kod</th>\n",
       "      <th></th>\n",
       "      <th></th>\n",
       "      <th></th>\n",
       "      <th></th>\n",
       "      <th></th>\n",
       "      <th></th>\n",
       "      <th></th>\n",
       "      <th></th>\n",
       "      <th></th>\n",
       "      <th></th>\n",
       "      <th></th>\n",
       "      <th></th>\n",
       "      <th></th>\n",
       "      <th></th>\n",
       "      <th></th>\n",
       "      <th></th>\n",
       "      <th></th>\n",
       "      <th></th>\n",
       "      <th></th>\n",
       "      <th></th>\n",
       "      <th></th>\n",
       "    </tr>\n",
       "  </thead>\n",
       "  <tbody>\n",
       "    <tr>\n",
       "      <th>1080000000000</th>\n",
       "      <td>2018-01-01</td>\n",
       "      <td>CHORĄGIEW ZIEMI LUBUSKIEJ</td>\n",
       "      <td>2819</td>\n",
       "      <td>1625</td>\n",
       "      <td>1194</td>\n",
       "      <td>158</td>\n",
       "      <td>149</td>\n",
       "      <td>1973</td>\n",
       "      <td>140</td>\n",
       "      <td>100</td>\n",
       "      <td>...</td>\n",
       "      <td>245</td>\n",
       "      <td>179</td>\n",
       "      <td>127</td>\n",
       "      <td>82</td>\n",
       "      <td>155</td>\n",
       "      <td>139</td>\n",
       "      <td>274</td>\n",
       "      <td>241</td>\n",
       "      <td>90</td>\n",
       "      <td>77</td>\n",
       "    </tr>\n",
       "    <tr>\n",
       "      <th>Razem:</th>\n",
       "      <td>NaT</td>\n",
       "      <td>NaN</td>\n",
       "      <td>102886</td>\n",
       "      <td>61541</td>\n",
       "      <td>41345</td>\n",
       "      <td>1854</td>\n",
       "      <td>2086</td>\n",
       "      <td>73570</td>\n",
       "      <td>5079</td>\n",
       "      <td>3264</td>\n",
       "      <td>...</td>\n",
       "      <td>11679</td>\n",
       "      <td>7132</td>\n",
       "      <td>5626</td>\n",
       "      <td>3611</td>\n",
       "      <td>5798</td>\n",
       "      <td>4263</td>\n",
       "      <td>7309</td>\n",
       "      <td>5890</td>\n",
       "      <td>2425</td>\n",
       "      <td>1923</td>\n",
       "    </tr>\n",
       "  </tbody>\n",
       "</table>\n",
       "<p>2 rows × 36 columns</p>\n",
       "</div>"
      ],
      "text/plain": [
       "              Data zliczenia                  Jednostka  l. ogółem  l. og. K  \\\n",
       "Kod                                                                            \n",
       "1080000000000     2018-01-01  CHORĄGIEW ZIEMI LUBUSKIEJ       2819      1625   \n",
       "Razem:                   NaT                        NaN     102886     61541   \n",
       "\n",
       "               l. og. M  l. NS K  l. NS M   brak  Obiet. K  Obiet. M  ...  \\\n",
       "Kod                                                                   ...   \n",
       "1080000000000      1194      158      149   1973       140       100  ...   \n",
       "Razem:            41345     1854     2086  73570      5079      3264  ...   \n",
       "\n",
       "                HS K  HS M  Wędr K  Wędr M  Wędr/Inst K  Wędr/Inst M  Inst K  \\\n",
       "Kod                                                                            \n",
       "1080000000000    245   179     127      82          155          139     274   \n",
       "Razem:         11679  7132    5626    3611         5798         4263    7309   \n",
       "\n",
       "               Inst M  Sen/Inst K  Sen/Inst M  \n",
       "Kod                                            \n",
       "1080000000000     241          90          77  \n",
       "Razem:           5890        2425        1923  \n",
       "\n",
       "[2 rows x 36 columns]"
      ]
     },
     "execution_count": 27,
     "metadata": {},
     "output_type": "execute_result"
    }
   ],
   "source": [
    "zhp_in_numbers = read_excel(\n",
    "    \"data/ZHP_zestawienie_2018.xlsx\",\n",
    "    sheet_name=\"zestawienie_2018-1\", index_col=2\n",
    ")\n",
    "zhp_in_numbers.tail(2)"
   ]
  },
  {
   "cell_type": "code",
   "execution_count": 28,
   "metadata": {},
   "outputs": [
    {
     "data": {
      "text/plain": [
       "Data zliczenia       NaT\n",
       "Jednostka            NaN\n",
       "l. ogółem         102886\n",
       "Name: Razem:, dtype: object"
      ]
     },
     "execution_count": 28,
     "metadata": {},
     "output_type": "execute_result"
    }
   ],
   "source": [
    "zhp_members_total = zhp_in_numbers.loc[\"Razem:\"]\n",
    "zhp_members_total.head(3)"
   ]
  },
  {
   "cell_type": "code",
   "execution_count": 29,
   "metadata": {},
   "outputs": [
    {
     "data": {
      "text/plain": [
       "1.4508509017018034"
      ]
     },
     "execution_count": 29,
     "metadata": {},
     "output_type": "execute_result"
    }
   ],
   "source": [
    "zhp_females = zhp_members_total.loc[\"Wędr K\"] + zhp_members_total.loc[\"Wędr/Inst K\"]\n",
    "zhp_males = zhp_members_total.loc[\"Wędr M\"] + zhp_members_total.loc[\"Wędr/Inst M\"]\n",
    "zhp_female_male_ratio = zhp_females / zhp_males\n",
    "zhp_female_male_ratio"
   ]
  },
  {
   "cell_type": "code",
   "execution_count": null,
   "metadata": {},
   "outputs": [],
   "source": []
  }
 ],
 "metadata": {
  "kernelspec": {
   "display_name": "Python 3",
   "language": "python",
   "name": "python3"
  },
  "language_info": {
   "codemirror_mode": {
    "name": "ipython",
    "version": 3
   },
   "file_extension": ".py",
   "mimetype": "text/x-python",
   "name": "python",
   "nbconvert_exporter": "python",
   "pygments_lexer": "ipython3",
   "version": "3.7.6"
  }
 },
 "nbformat": 4,
 "nbformat_minor": 4
}
