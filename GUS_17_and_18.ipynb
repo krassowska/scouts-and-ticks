{
 "cells": [
  {
   "cell_type": "markdown",
   "metadata": {},
   "source": [
    "# GUS 2017 and 2018 comparison data"
   ]
  },
  {
   "cell_type": "code",
   "execution_count": 1,
   "metadata": {},
   "outputs": [],
   "source": [
    "from pandas import read_csv, read_excel, Series, concat, wide_to_long\n",
    "import seaborn as sns\n",
    "import numpy as np\n",
    "from helpers.plots import labels"
   ]
  },
  {
   "cell_type": "markdown",
   "metadata": {},
   "source": [
    "### Comparison of 2017 and 2018 GUS data about age distribution in Polish population"
   ]
  },
  {
   "cell_type": "markdown",
   "metadata": {},
   "source": [
    "GUS data form 2017 were used in my master thesis, as 2018 data were not available at the time of writing my master thesis. Now I have decided to use 2018 data as they become available."
   ]
  },
  {
   "cell_type": "markdown",
   "metadata": {},
   "source": [
    "**Data 2017 source:** [Central Statistical Office in Poland, *Population in Poland. Size and structure by territorial division As of June 30, 2017*](https://stat.gov.pl/files/gfx/portalinformacyjny/pl/defaultaktualnosci/5468/6/22/1/ludnosc._stan_i_struktura_w_przekroju_terytorialnym._stan_w_dniu_30.06.2017.pdf)"
   ]
  },
  {
   "cell_type": "code",
   "execution_count": 2,
   "metadata": {},
   "outputs": [],
   "source": [
    "gus_2017_all = read_csv(\"data/gus_age_2017.csv\")"
   ]
  },
  {
   "cell_type": "markdown",
   "metadata": {},
   "source": [
    "- `gus_2017` - age data inferred from the 2017 report\n",
    "- `gus_2018` - age data from the 2018 report"
   ]
  },
  {
   "cell_type": "code",
   "execution_count": 3,
   "metadata": {},
   "outputs": [
    {
     "data": {
      "text/html": [
       "<div>\n",
       "<style scoped>\n",
       "    .dataframe tbody tr th:only-of-type {\n",
       "        vertical-align: middle;\n",
       "    }\n",
       "\n",
       "    .dataframe tbody tr th {\n",
       "        vertical-align: top;\n",
       "    }\n",
       "\n",
       "    .dataframe thead th {\n",
       "        text-align: right;\n",
       "    }\n",
       "</style>\n",
       "<table border=\"1\" class=\"dataframe\">\n",
       "  <thead>\n",
       "    <tr style=\"text-align: right;\">\n",
       "      <th></th>\n",
       "      <th>age</th>\n",
       "      <th>total</th>\n",
       "      <th>males</th>\n",
       "      <th>females</th>\n",
       "      <th>city_total</th>\n",
       "      <th>city_males</th>\n",
       "      <th>city_females</th>\n",
       "      <th>rural_total</th>\n",
       "      <th>rural_male</th>\n",
       "      <th>rural_female</th>\n",
       "      <th>age_in_2018</th>\n",
       "    </tr>\n",
       "  </thead>\n",
       "  <tbody>\n",
       "    <tr>\n",
       "      <th>0</th>\n",
       "      <td>15</td>\n",
       "      <td>360165</td>\n",
       "      <td>184738</td>\n",
       "      <td>175427</td>\n",
       "      <td>192475</td>\n",
       "      <td>98690</td>\n",
       "      <td>93785</td>\n",
       "      <td>167690</td>\n",
       "      <td>86048</td>\n",
       "      <td>81642</td>\n",
       "      <td>16</td>\n",
       "    </tr>\n",
       "    <tr>\n",
       "      <th>1</th>\n",
       "      <td>16</td>\n",
       "      <td>371338</td>\n",
       "      <td>190380</td>\n",
       "      <td>180958</td>\n",
       "      <td>200959</td>\n",
       "      <td>102629</td>\n",
       "      <td>98330</td>\n",
       "      <td>170379</td>\n",
       "      <td>87751</td>\n",
       "      <td>82628</td>\n",
       "      <td>17</td>\n",
       "    </tr>\n",
       "  </tbody>\n",
       "</table>\n",
       "</div>"
      ],
      "text/plain": [
       "   age   total   males  females  city_total  city_males  city_females  \\\n",
       "0   15  360165  184738   175427      192475       98690         93785   \n",
       "1   16  371338  190380   180958      200959      102629         98330   \n",
       "\n",
       "   rural_total  rural_male  rural_female  age_in_2018  \n",
       "0       167690       86048         81642           16  \n",
       "1       170379       87751         82628           17  "
      ]
     },
     "execution_count": 3,
     "metadata": {},
     "output_type": "execute_result"
    }
   ],
   "source": [
    "gus_2017_all = gus_2017_all.assign(age_in_2018=gus_2017_all.age + 1)\n",
    "gus_2017 = gus_2017_all[gus_2017_all.age_in_2018 <= 21]\n",
    "gus_2017.head(2)"
   ]
  },
  {
   "cell_type": "markdown",
   "metadata": {},
   "source": [
    "**Data 2018 source:** [Central Statistical Office in Poland, *Ludność. Stan i struktura oraz ruch naturalny w przekroju terytorialnym w 2018 r. Stan w dniu 31 XII*](https://stat.gov.pl/obszary-tematyczne/ludnosc/ludnosc/ludnosc-stan-i-struktura-oraz-ruch-naturalny-w-przekroju-terytorialnym-w-2018-r-stan-w-dniu-31-xii,6,25.html)\n"
   ]
  },
  {
   "cell_type": "code",
   "execution_count": 4,
   "metadata": {},
   "outputs": [],
   "source": [
    "gus_2018_all = read_excel(\n",
    "    \"data/03_ludnosć_struktura wg wieku_RD'2019.xls\",\n",
    "    sheet_name=\"Tablica 15 \", index_col=0\n",
    ")"
   ]
  },
  {
   "cell_type": "code",
   "execution_count": 5,
   "metadata": {},
   "outputs": [
    {
     "data": {
      "text/html": [
       "<div>\n",
       "<style scoped>\n",
       "    .dataframe tbody tr th:only-of-type {\n",
       "        vertical-align: middle;\n",
       "    }\n",
       "\n",
       "    .dataframe tbody tr th {\n",
       "        vertical-align: top;\n",
       "    }\n",
       "\n",
       "    .dataframe thead th {\n",
       "        text-align: right;\n",
       "    }\n",
       "</style>\n",
       "<table border=\"1\" class=\"dataframe\">\n",
       "  <thead>\n",
       "    <tr style=\"text-align: right;\">\n",
       "      <th></th>\n",
       "      <th>Unnamed: 1</th>\n",
       "      <th>Unnamed: 2</th>\n",
       "      <th>Unnamed: 3</th>\n",
       "      <th>Unnamed: 4</th>\n",
       "      <th>Unnamed: 5</th>\n",
       "      <th>Unnamed: 6</th>\n",
       "      <th>Unnamed: 7</th>\n",
       "      <th>Unnamed: 8</th>\n",
       "      <th>Unnamed: 9</th>\n",
       "    </tr>\n",
       "  </thead>\n",
       "  <tbody>\n",
       "    <tr>\n",
       "      <th>WIEK                       \\nAGE</th>\n",
       "      <td>Ogółem   Total</td>\n",
       "      <td>Mężczyźni   Males</td>\n",
       "      <td>Kobiety  Females</td>\n",
       "      <td>Miasta   Urban areas</td>\n",
       "      <td>NaN</td>\n",
       "      <td>NaN</td>\n",
       "      <td>Wieś   Rural areas</td>\n",
       "      <td>NaN</td>\n",
       "      <td>NaN</td>\n",
       "    </tr>\n",
       "    <tr>\n",
       "      <th>NaN</th>\n",
       "      <td>NaN</td>\n",
       "      <td>NaN</td>\n",
       "      <td>NaN</td>\n",
       "      <td>razem  total</td>\n",
       "      <td>mężczyźni  males</td>\n",
       "      <td>kobiety females</td>\n",
       "      <td>razem  total</td>\n",
       "      <td>mężczyźni  males</td>\n",
       "      <td>kobiety females</td>\n",
       "    </tr>\n",
       "  </tbody>\n",
       "</table>\n",
       "</div>"
      ],
      "text/plain": [
       "                                      Unnamed: 1         Unnamed: 2  \\\n",
       "WIEK                       \\nAGE  Ogółem   Total  Mężczyźni   Males   \n",
       "NaN                                          NaN                NaN   \n",
       "\n",
       "                                        Unnamed: 3            Unnamed: 4  \\\n",
       "WIEK                       \\nAGE  Kobiety  Females  Miasta   Urban areas   \n",
       "NaN                                            NaN          razem  total   \n",
       "\n",
       "                                        Unnamed: 5       Unnamed: 6  \\\n",
       "WIEK                       \\nAGE               NaN              NaN   \n",
       "NaN                               mężczyźni  males  kobiety females   \n",
       "\n",
       "                                          Unnamed: 7        Unnamed: 8  \\\n",
       "WIEK                       \\nAGE  Wieś   Rural areas               NaN   \n",
       "NaN                                     razem  total  mężczyźni  males   \n",
       "\n",
       "                                       Unnamed: 9  \n",
       "WIEK                       \\nAGE              NaN  \n",
       "NaN                               kobiety females  "
      ]
     },
     "execution_count": 5,
     "metadata": {},
     "output_type": "execute_result"
    }
   ],
   "source": [
    "gus_2018_all.iloc[[5, 6]]"
   ]
  },
  {
   "cell_type": "code",
   "execution_count": 6,
   "metadata": {},
   "outputs": [],
   "source": [
    "gus_2018 = gus_2018_all.loc[range(16, 22)]"
   ]
  },
  {
   "cell_type": "code",
   "execution_count": 7,
   "metadata": {},
   "outputs": [
    {
     "data": {
      "text/html": [
       "<div>\n",
       "<style scoped>\n",
       "    .dataframe tbody tr th:only-of-type {\n",
       "        vertical-align: middle;\n",
       "    }\n",
       "\n",
       "    .dataframe tbody tr th {\n",
       "        vertical-align: top;\n",
       "    }\n",
       "\n",
       "    .dataframe thead th {\n",
       "        text-align: right;\n",
       "    }\n",
       "</style>\n",
       "<table border=\"1\" class=\"dataframe\">\n",
       "  <thead>\n",
       "    <tr style=\"text-align: right;\">\n",
       "      <th></th>\n",
       "      <th>age</th>\n",
       "      <th>total</th>\n",
       "      <th>males</th>\n",
       "      <th>females</th>\n",
       "      <th>city_total</th>\n",
       "      <th>city_males</th>\n",
       "      <th>city_females</th>\n",
       "      <th>rural_total</th>\n",
       "      <th>rural_male</th>\n",
       "      <th>rural_female</th>\n",
       "    </tr>\n",
       "  </thead>\n",
       "  <tbody>\n",
       "    <tr>\n",
       "      <th>0</th>\n",
       "      <td>16</td>\n",
       "      <td>353738</td>\n",
       "      <td>181515</td>\n",
       "      <td>172223</td>\n",
       "      <td>195234</td>\n",
       "      <td>99504</td>\n",
       "      <td>95730</td>\n",
       "      <td>158504</td>\n",
       "      <td>82011</td>\n",
       "      <td>76493</td>\n",
       "    </tr>\n",
       "    <tr>\n",
       "      <th>1</th>\n",
       "      <td>17</td>\n",
       "      <td>366102</td>\n",
       "      <td>187690</td>\n",
       "      <td>178412</td>\n",
       "      <td>201651</td>\n",
       "      <td>102767</td>\n",
       "      <td>98884</td>\n",
       "      <td>164451</td>\n",
       "      <td>84923</td>\n",
       "      <td>79528</td>\n",
       "    </tr>\n",
       "  </tbody>\n",
       "</table>\n",
       "</div>"
      ],
      "text/plain": [
       "   age   total   males females city_total city_males city_females rural_total  \\\n",
       "0   16  353738  181515  172223     195234      99504        95730      158504   \n",
       "1   17  366102  187690  178412     201651     102767        98884      164451   \n",
       "\n",
       "  rural_male rural_female  \n",
       "0      82011        76493  \n",
       "1      84923        79528  "
      ]
     },
     "execution_count": 7,
     "metadata": {},
     "output_type": "execute_result"
    }
   ],
   "source": [
    "gus_2018 = gus_2018.reset_index()\n",
    "gus_2018.columns = (\n",
    "    'age total males females city_total city_males '\n",
    "    'city_females rural_total rural_male rural_female'\n",
    ").split()\n",
    "gus_2018.head(2)"
   ]
  },
  {
   "cell_type": "code",
   "execution_count": 8,
   "metadata": {},
   "outputs": [],
   "source": [
    "x = np.repeat(gus_2017.age_in_2018, gus_2017.total)\n",
    "y = np.repeat(gus_2018.age, gus_2018.total)"
   ]
  },
  {
   "cell_type": "code",
   "execution_count": 9,
   "metadata": {},
   "outputs": [
    {
     "data": {
      "image/png": "[encoded data removed]",
      "text/plain": [
       "<Figure size 432x288 with 1 Axes>"
      ]
     },
     "metadata": {
      "needs_background": "light"
     },
     "output_type": "display_data"
    }
   ],
   "source": [
    "sns.kdeplot(y, bw=.5, label=\"GUS 2018\", shade=True)\n",
    "sns.kdeplot(x, bw=.5, label=\"GUS 2017\", shade=True);"
   ]
  },
  {
   "cell_type": "code",
   "execution_count": 10,
   "metadata": {},
   "outputs": [
    {
     "data": {
      "text/html": [
       "<div>\n",
       "<style scoped>\n",
       "    .dataframe tbody tr th:only-of-type {\n",
       "        vertical-align: middle;\n",
       "    }\n",
       "\n",
       "    .dataframe tbody tr th {\n",
       "        vertical-align: top;\n",
       "    }\n",
       "\n",
       "    .dataframe thead th {\n",
       "        text-align: right;\n",
       "    }\n",
       "</style>\n",
       "<table border=\"1\" class=\"dataframe\">\n",
       "  <thead>\n",
       "    <tr style=\"text-align: right;\">\n",
       "      <th></th>\n",
       "      <th>age</th>\n",
       "      <th>GUS2017</th>\n",
       "      <th>GUS2018</th>\n",
       "    </tr>\n",
       "  </thead>\n",
       "  <tbody>\n",
       "    <tr>\n",
       "      <th>0</th>\n",
       "      <td>16</td>\n",
       "      <td>360165</td>\n",
       "      <td>353738</td>\n",
       "    </tr>\n",
       "    <tr>\n",
       "      <th>1</th>\n",
       "      <td>17</td>\n",
       "      <td>371338</td>\n",
       "      <td>366102</td>\n",
       "    </tr>\n",
       "  </tbody>\n",
       "</table>\n",
       "</div>"
      ],
      "text/plain": [
       "   age  GUS2017 GUS2018\n",
       "0   16   360165  353738\n",
       "1   17   371338  366102"
      ]
     },
     "execution_count": 10,
     "metadata": {},
     "output_type": "execute_result"
    }
   ],
   "source": [
    "ages = Series(gus_2017.age_in_2018, name=\"age\")\n",
    "GUS_2017 = Series(gus_2017.total, name=\"GUS2017\")\n",
    "GUS_2018 = Series(gus_2018.total, name=\"GUS2018\")\n",
    "age_compare = concat([ages, GUS_2017, GUS_2018], axis=1)\n",
    "age_compare.head(2)"
   ]
  },
  {
   "cell_type": "code",
   "execution_count": 11,
   "metadata": {},
   "outputs": [
    {
     "data": {
      "text/html": [
       "<div>\n",
       "<style scoped>\n",
       "    .dataframe tbody tr th:only-of-type {\n",
       "        vertical-align: middle;\n",
       "    }\n",
       "\n",
       "    .dataframe tbody tr th {\n",
       "        vertical-align: top;\n",
       "    }\n",
       "\n",
       "    .dataframe thead th {\n",
       "        text-align: right;\n",
       "    }\n",
       "</style>\n",
       "<table border=\"1\" class=\"dataframe\">\n",
       "  <thead>\n",
       "    <tr style=\"text-align: right;\">\n",
       "      <th></th>\n",
       "      <th>id</th>\n",
       "      <th>year</th>\n",
       "      <th>age</th>\n",
       "      <th>GUS</th>\n",
       "    </tr>\n",
       "  </thead>\n",
       "  <tbody>\n",
       "    <tr>\n",
       "      <th>0</th>\n",
       "      <td>0</td>\n",
       "      <td>2017</td>\n",
       "      <td>16</td>\n",
       "      <td>360165</td>\n",
       "    </tr>\n",
       "    <tr>\n",
       "      <th>1</th>\n",
       "      <td>1</td>\n",
       "      <td>2017</td>\n",
       "      <td>17</td>\n",
       "      <td>371338</td>\n",
       "    </tr>\n",
       "  </tbody>\n",
       "</table>\n",
       "</div>"
      ],
      "text/plain": [
       "   id  year  age     GUS\n",
       "0   0  2017   16  360165\n",
       "1   1  2017   17  371338"
      ]
     },
     "execution_count": 11,
     "metadata": {},
     "output_type": "execute_result"
    }
   ],
   "source": [
    "age_compare[\"id\"] = age_compare.index\n",
    "GUS_age_compare = wide_to_long(age_compare, [\"GUS\"], i=\"id\", j=\"year\")\n",
    "GUS_age_compare = GUS_age_compare.reset_index()\n",
    "GUS_age_compare.head(2)"
   ]
  },
  {
   "cell_type": "markdown",
   "metadata": {},
   "source": [
    "Difference in age groups between 2017 and 2018 is small."
   ]
  },
  {
   "cell_type": "code",
   "execution_count": 12,
   "metadata": {},
   "outputs": [
    {
     "data": {
      "image/png": "[encoded data removed]",
      "text/plain": [
       "<Figure size 432x288 with 1 Axes>"
      ]
     },
     "metadata": {
      "needs_background": "light"
     },
     "output_type": "display_data"
    }
   ],
   "source": [
    "sns.barplot(\n",
    "    x=\"age\", y=\"GUS\", hue=\"year\",\n",
    "    data=GUS_age_compare,\n",
    ")\n",
    "labels(title=\"Difference in age groups in 2017 and 2018\")"
   ]
  }
 ],
 "metadata": {
  "kernelspec": {
   "display_name": "Python 3",
   "language": "python",
   "name": "python3"
  },
  "language_info": {
   "codemirror_mode": {
    "name": "ipython",
    "version": 3
   },
   "file_extension": ".py",
   "mimetype": "text/x-python",
   "name": "python",
   "nbconvert_exporter": "python",
   "pygments_lexer": "ipython3",
   "version": "3.7.6"
  }
 },
 "nbformat": 4,
 "nbformat_minor": 4
}
