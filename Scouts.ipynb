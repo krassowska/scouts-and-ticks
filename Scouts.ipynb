{
 "cells": [
  {
   "cell_type": "markdown",
   "metadata": {},
   "source": [
    "# Scouts demographics"
   ]
  },
  {
   "cell_type": "code",
   "execution_count": 1,
   "metadata": {},
   "outputs": [],
   "source": [
    "from pandas import read_csv, set_option\n",
    "from scipy import stats"
   ]
  },
  {
   "cell_type": "code",
   "execution_count": 2,
   "metadata": {},
   "outputs": [],
   "source": [
    "g = read_csv('data/cleaned_answers.csv')"
   ]
  },
  {
   "cell_type": "code",
   "execution_count": 3,
   "metadata": {},
   "outputs": [
    {
     "data": {
      "text/html": [
       "<div>\n",
       "<style scoped>\n",
       "    .dataframe tbody tr th:only-of-type {\n",
       "        vertical-align: middle;\n",
       "    }\n",
       "\n",
       "    .dataframe tbody tr th {\n",
       "        vertical-align: top;\n",
       "    }\n",
       "\n",
       "    .dataframe thead th {\n",
       "        text-align: right;\n",
       "    }\n",
       "</style>\n",
       "<table border=\"1\" class=\"dataframe\">\n",
       "  <thead>\n",
       "    <tr style=\"text-align: right;\">\n",
       "      <th></th>\n",
       "      <th>Unnamed: 0</th>\n",
       "      <th>index</th>\n",
       "      <th>Timestamp</th>\n",
       "      <th>sex</th>\n",
       "      <th>age</th>\n",
       "      <th>place_of_residence</th>\n",
       "      <th>is_polish_scout</th>\n",
       "      <th>scouting_organization</th>\n",
       "      <th>years_in_scouting</th>\n",
       "      <th>is_instructor</th>\n",
       "      <th>...</th>\n",
       "      <th>MIT_tick_jump_score</th>\n",
       "      <th>MIT_waiting_boreliosis_score</th>\n",
       "      <th>MIT_safe_score</th>\n",
       "      <th>MIT_summer_tick_score</th>\n",
       "      <th>MIT_part_tick_score</th>\n",
       "      <th>MIT_city_score</th>\n",
       "      <th>MIT_clock_score</th>\n",
       "      <th>total_score_without_images</th>\n",
       "      <th>total_score_with_images</th>\n",
       "      <th>score_as_percent</th>\n",
       "    </tr>\n",
       "  </thead>\n",
       "  <tbody>\n",
       "    <tr>\n",
       "      <th>0</th>\n",
       "      <td>0</td>\n",
       "      <td>0</td>\n",
       "      <td>2018/04/27 1:36:27 PM GMT+2</td>\n",
       "      <td>Kobieta</td>\n",
       "      <td>17</td>\n",
       "      <td>Miasto powyżej 100 tys. mieszkańców</td>\n",
       "      <td>True</td>\n",
       "      <td>ZHP</td>\n",
       "      <td>11.0</td>\n",
       "      <td>True</td>\n",
       "      <td>...</td>\n",
       "      <td>1</td>\n",
       "      <td>1</td>\n",
       "      <td>1</td>\n",
       "      <td>1</td>\n",
       "      <td>1</td>\n",
       "      <td>1</td>\n",
       "      <td>1</td>\n",
       "      <td>26.2</td>\n",
       "      <td>26.2</td>\n",
       "      <td>90.344828</td>\n",
       "    </tr>\n",
       "    <tr>\n",
       "      <th>1</th>\n",
       "      <td>1</td>\n",
       "      <td>1</td>\n",
       "      <td>2018/04/27 1:43:31 PM GMT+2</td>\n",
       "      <td>Kobieta</td>\n",
       "      <td>18</td>\n",
       "      <td>Miasto powyżej 100 tys. mieszkańców</td>\n",
       "      <td>True</td>\n",
       "      <td>ZHP</td>\n",
       "      <td>5.0</td>\n",
       "      <td>True</td>\n",
       "      <td>...</td>\n",
       "      <td>1</td>\n",
       "      <td>1</td>\n",
       "      <td>0</td>\n",
       "      <td>1</td>\n",
       "      <td>1</td>\n",
       "      <td>1</td>\n",
       "      <td>0</td>\n",
       "      <td>22.9</td>\n",
       "      <td>22.9</td>\n",
       "      <td>78.965517</td>\n",
       "    </tr>\n",
       "  </tbody>\n",
       "</table>\n",
       "<p>2 rows × 86 columns</p>\n",
       "</div>"
      ],
      "text/plain": [
       "   Unnamed: 0  index                    Timestamp      sex  age  \\\n",
       "0           0      0  2018/04/27 1:36:27 PM GMT+2  Kobieta   17   \n",
       "1           1      1  2018/04/27 1:43:31 PM GMT+2  Kobieta   18   \n",
       "\n",
       "                    place_of_residence  is_polish_scout scouting_organization  \\\n",
       "0  Miasto powyżej 100 tys. mieszkańców             True                   ZHP   \n",
       "1  Miasto powyżej 100 tys. mieszkańców             True                   ZHP   \n",
       "\n",
       "   years_in_scouting  is_instructor  ...  MIT_tick_jump_score  \\\n",
       "0               11.0           True  ...                    1   \n",
       "1                5.0           True  ...                    1   \n",
       "\n",
       "  MIT_waiting_boreliosis_score MIT_safe_score MIT_summer_tick_score  \\\n",
       "0                            1              1                     1   \n",
       "1                            1              0                     1   \n",
       "\n",
       "  MIT_part_tick_score MIT_city_score MIT_clock_score  \\\n",
       "0                   1              1               1   \n",
       "1                   1              1               0   \n",
       "\n",
       "  total_score_without_images total_score_with_images score_as_percent  \n",
       "0                       26.2                    26.2        90.344828  \n",
       "1                       22.9                    22.9        78.965517  \n",
       "\n",
       "[2 rows x 86 columns]"
      ]
     },
     "execution_count": 3,
     "metadata": {},
     "output_type": "execute_result"
    }
   ],
   "source": [
    "scouts = g[g.is_polish_scout].copy()\n",
    "scouts.head(2)"
   ]
  },
  {
   "cell_type": "markdown",
   "metadata": {},
   "source": [
    "## Scouting organizations in Poland"
   ]
  },
  {
   "cell_type": "code",
   "execution_count": 4,
   "metadata": {},
   "outputs": [
    {
     "data": {
      "text/plain": [
       "{'ZHP': 971,\n",
       " 'ZHR': 135,\n",
       " 'Stowarzyszenie Harcerstwa Katolickiego \"Zawisza\"': 62,\n",
       " 'Stowarzyszenie Harcerskie': 10,\n",
       " 'SH': 6,\n",
       " 'Stowarzyszenie Harcerskie ': 3,\n",
       " 'ZHP;ZHR': 2,\n",
       " 'Drzewo Pokoju': 2,\n",
       " 'Skauci Europy': 1,\n",
       " 'Harcerstwo Rzeczypospolitej Polskiej': 1,\n",
       " 'Należałam kiedyś': 1,\n",
       " 'Organizacja Harcerska \"Rodło\" im. Szarych Szeregów': 1,\n",
       " 'Stowarzyszenie harcerskie': 1,\n",
       " 'Stowarzyszenie harcerskie ': 1,\n",
       " 'Royal Rangers': 1,\n",
       " 'Harcerstwo Rzeczpospolitej Polskiej ': 1}"
      ]
     },
     "execution_count": 4,
     "metadata": {},
     "output_type": "execute_result"
    }
   ],
   "source": [
    "orgs = scouts.scouting_organization.value_counts().to_dict()\n",
    "orgs"
   ]
  },
  {
   "cell_type": "markdown",
   "metadata": {},
   "source": [
    "Group by organization - replace misspelled names and repeated organizations"
   ]
  },
  {
   "cell_type": "code",
   "execution_count": 5,
   "metadata": {},
   "outputs": [
    {
     "data": {
      "text/plain": [
       "{'ZHP': 971,\n",
       " 'ZHR': 135,\n",
       " 'Stowarzyszenie Harcerstwa Katolickiego \"Zawisza\"': 63,\n",
       " 'Stowarzyszenie Harcerskie': 21,\n",
       " 'Harcerstwo Rzeczpospolitej Polskiej': 2,\n",
       " 'ZHP;ZHR': 2,\n",
       " 'Drzewo Pokoju': 2,\n",
       " 'Należałam kiedyś': 1,\n",
       " 'Organizacja Harcerska \"Rodło\" im. Szarych Szeregów': 1,\n",
       " 'Royal Rangers': 1}"
      ]
     },
     "execution_count": 5,
     "metadata": {},
     "output_type": "execute_result"
    }
   ],
   "source": [
    "to_replace = {\n",
    "    'Stowarzyszenie Harcerskie ': 'Stowarzyszenie Harcerskie',\n",
    "    'Stowarzyszenie harcerskie ': 'Stowarzyszenie Harcerskie',\n",
    "    'Stowarzyszenie harcerskie': 'Stowarzyszenie Harcerskie',\n",
    "    'SH': 'Stowarzyszenie Harcerskie',\n",
    "    'Skauci Europy': 'Stowarzyszenie Harcerstwa Katolickiego \"Zawisza\"',\n",
    "    'Harcerstwo Rzeczpospolitej Polskiej ': 'Harcerstwo Rzeczpospolitej Polskiej',\n",
    "    'Harcerstwo Rzeczypospolitej Polskiej': 'Harcerstwo Rzeczpospolitej Polskiej'\n",
    "}\n",
    "\n",
    "scouts.scouting_organization = scouts.scouting_organization.replace(to_replace)\n",
    "orgs = scouts.scouting_organization.value_counts().to_dict()\n",
    "orgs"
   ]
  },
  {
   "cell_type": "markdown",
   "metadata": {},
   "source": [
    "Participant who was in scouts, but not anymore at the time of filling the questionnaire"
   ]
  },
  {
   "cell_type": "code",
   "execution_count": 6,
   "metadata": {},
   "outputs": [
    {
     "data": {
      "text/html": [
       "<div>\n",
       "<style scoped>\n",
       "    .dataframe tbody tr th:only-of-type {\n",
       "        vertical-align: middle;\n",
       "    }\n",
       "\n",
       "    .dataframe tbody tr th {\n",
       "        vertical-align: top;\n",
       "    }\n",
       "\n",
       "    .dataframe thead th {\n",
       "        text-align: right;\n",
       "    }\n",
       "</style>\n",
       "<table border=\"1\" class=\"dataframe\">\n",
       "  <thead>\n",
       "    <tr style=\"text-align: right;\">\n",
       "      <th></th>\n",
       "      <th>Unnamed: 0</th>\n",
       "      <th>index</th>\n",
       "      <th>Timestamp</th>\n",
       "      <th>sex</th>\n",
       "      <th>age</th>\n",
       "      <th>place_of_residence</th>\n",
       "      <th>is_polish_scout</th>\n",
       "      <th>scouting_organization</th>\n",
       "      <th>years_in_scouting</th>\n",
       "      <th>is_instructor</th>\n",
       "      <th>camps_count</th>\n",
       "      <th>tick_picture</th>\n",
       "      <th>TBD</th>\n",
       "      <th>TBD_symptoms</th>\n",
       "      <th>po_ugryzieniu</th>\n",
       "      <th>after_bite</th>\n",
       "      <th>how_to_remove</th>\n",
       "      <th>profilaktyka</th>\n",
       "      <th>where_ticks_live</th>\n",
       "      <th>MIT_spin</th>\n",
       "      <th>MIT_butter</th>\n",
       "      <th>MIT_SOR</th>\n",
       "      <th>MIT_always_rumien</th>\n",
       "      <th>MIT_big_tick</th>\n",
       "      <th>MIT_tick_go_away</th>\n",
       "      <th>MIT_paralize_tick</th>\n",
       "      <th>MIT_run_tick_run</th>\n",
       "      <th>MIT_tickles</th>\n",
       "      <th>MIT_place_of_bite</th>\n",
       "      <th>MIT_vaccine</th>\n",
       "      <th>MIT_forest_only</th>\n",
       "      <th>MIT_wrong_remove</th>\n",
       "      <th>MIT_speed_ill</th>\n",
       "      <th>MIT_scarry_tick</th>\n",
       "      <th>MIT_tick_jump</th>\n",
       "      <th>MIT_waiting_boreliosis</th>\n",
       "      <th>MIT_safe</th>\n",
       "      <th>MIT_summer_tick</th>\n",
       "      <th>MIT_part_tick</th>\n",
       "      <th>MIT_city</th>\n",
       "      <th>MIT_clock</th>\n",
       "      <th>time_in_nature</th>\n",
       "      <th>tick_bites</th>\n",
       "      <th>source_of_knowledge</th>\n",
       "      <th>first_aid_course</th>\n",
       "      <th>first_aid_content</th>\n",
       "      <th>tick_removal</th>\n",
       "      <th>with_images</th>\n",
       "      <th>is_women</th>\n",
       "      <th>first_aid_course_participated</th>\n",
       "      <th>size_of_residence_place</th>\n",
       "      <th>time_in_nature_pruned</th>\n",
       "      <th>time_in_nature_clamped</th>\n",
       "      <th>tick_picture_score</th>\n",
       "      <th>TBD_score</th>\n",
       "      <th>TBD_symptoms_score</th>\n",
       "      <th>po_ugryzieniu_score</th>\n",
       "      <th>after_bite_score</th>\n",
       "      <th>how_to_remove_score</th>\n",
       "      <th>profilaktyka_score</th>\n",
       "      <th>where_ticks_live_score</th>\n",
       "      <th>MIT_spin_score</th>\n",
       "      <th>MIT_butter_score</th>\n",
       "      <th>MIT_SOR_score</th>\n",
       "      <th>MIT_always_rumien_score</th>\n",
       "      <th>MIT_big_tick_score</th>\n",
       "      <th>MIT_tick_go_away_score</th>\n",
       "      <th>MIT_paralize_tick_score</th>\n",
       "      <th>MIT_run_tick_run_score</th>\n",
       "      <th>MIT_tickles_score</th>\n",
       "      <th>MIT_place_of_bite_score</th>\n",
       "      <th>MIT_vaccine_score</th>\n",
       "      <th>MIT_forest_only_score</th>\n",
       "      <th>MIT_wrong_remove_score</th>\n",
       "      <th>MIT_speed_ill_score</th>\n",
       "      <th>MIT_scarry_tick_score</th>\n",
       "      <th>MIT_tick_jump_score</th>\n",
       "      <th>MIT_waiting_boreliosis_score</th>\n",
       "      <th>MIT_safe_score</th>\n",
       "      <th>MIT_summer_tick_score</th>\n",
       "      <th>MIT_part_tick_score</th>\n",
       "      <th>MIT_city_score</th>\n",
       "      <th>MIT_clock_score</th>\n",
       "      <th>total_score_without_images</th>\n",
       "      <th>total_score_with_images</th>\n",
       "      <th>score_as_percent</th>\n",
       "    </tr>\n",
       "  </thead>\n",
       "  <tbody>\n",
       "    <tr>\n",
       "      <th>603</th>\n",
       "      <td>603</td>\n",
       "      <td>640</td>\n",
       "      <td>2018/04/27 5:28:29 PM GMT+2</td>\n",
       "      <td>Kobieta</td>\n",
       "      <td>18</td>\n",
       "      <td>Miasto od 50 do 100 tys. mieszkańców</td>\n",
       "      <td>True</td>\n",
       "      <td>Należałam kiedyś</td>\n",
       "      <td>7.0</td>\n",
       "      <td>True</td>\n",
       "      <td>5.0</td>\n",
       "      <td>-;-;-;-</td>\n",
       "      <td>Borelioza;Wirusowe zapalenie mózgu i opon mózg...</td>\n",
       "      <td>Rumień wędrujący;Bóle mięśniowo-stawowe</td>\n",
       "      <td>Poproszę o pomoc kogoś, kto wie jak wyjąć kles...</td>\n",
       "      <td>Zgłoszę się do lekarza / pielęgniarki / ratown...</td>\n",
       "      <td>Nie wolno wyjmować, tylko lekarz może to zrobić</td>\n",
       "      <td>Założyć ubrania z długimi rękawami i nogawkami...</td>\n",
       "      <td>Na łące;W lesie</td>\n",
       "      <td>Prawda</td>\n",
       "      <td>Mit</td>\n",
       "      <td>Nie wiem</td>\n",
       "      <td>Prawda</td>\n",
       "      <td>Mit</td>\n",
       "      <td>Mit</td>\n",
       "      <td>Mit</td>\n",
       "      <td>Mit</td>\n",
       "      <td>Mit</td>\n",
       "      <td>Mit</td>\n",
       "      <td>Prawda</td>\n",
       "      <td>Mit</td>\n",
       "      <td>Prawda</td>\n",
       "      <td>Mit</td>\n",
       "      <td>Mit</td>\n",
       "      <td>Mit</td>\n",
       "      <td>Prawda</td>\n",
       "      <td>Mit</td>\n",
       "      <td>Mit</td>\n",
       "      <td>Mit</td>\n",
       "      <td>Prawda</td>\n",
       "      <td>Mit</td>\n",
       "      <td>1.0</td>\n",
       "      <td>3.0</td>\n",
       "      <td>Od rodziny lub znajomych</td>\n",
       "      <td>W harcerstwie i szkole, w trakcie kursu na pra...</td>\n",
       "      <td>Tak</td>\n",
       "      <td>żadne z powyższych</td>\n",
       "      <td>False</td>\n",
       "      <td>True</td>\n",
       "      <td>True</td>\n",
       "      <td>3</td>\n",
       "      <td>1.0</td>\n",
       "      <td>1.0</td>\n",
       "      <td>0</td>\n",
       "      <td>1</td>\n",
       "      <td>2/5</td>\n",
       "      <td>1</td>\n",
       "      <td>1</td>\n",
       "      <td>-1/4</td>\n",
       "      <td>4/5</td>\n",
       "      <td>2/5</td>\n",
       "      <td>0</td>\n",
       "      <td>1</td>\n",
       "      <td>0</td>\n",
       "      <td>0</td>\n",
       "      <td>1</td>\n",
       "      <td>1</td>\n",
       "      <td>1</td>\n",
       "      <td>1</td>\n",
       "      <td>1</td>\n",
       "      <td>1</td>\n",
       "      <td>0</td>\n",
       "      <td>1</td>\n",
       "      <td>1</td>\n",
       "      <td>1</td>\n",
       "      <td>1</td>\n",
       "      <td>1</td>\n",
       "      <td>1</td>\n",
       "      <td>1</td>\n",
       "      <td>1</td>\n",
       "      <td>1</td>\n",
       "      <td>1</td>\n",
       "      <td>1</td>\n",
       "      <td>22.35</td>\n",
       "      <td>22.35</td>\n",
       "      <td>77.068966</td>\n",
       "    </tr>\n",
       "  </tbody>\n",
       "</table>\n",
       "</div>"
      ],
      "text/plain": [
       "     Unnamed: 0  index                    Timestamp      sex  age  \\\n",
       "603         603    640  2018/04/27 5:28:29 PM GMT+2  Kobieta   18   \n",
       "\n",
       "                       place_of_residence  is_polish_scout  \\\n",
       "603  Miasto od 50 do 100 tys. mieszkańców             True   \n",
       "\n",
       "    scouting_organization  years_in_scouting  is_instructor  camps_count  \\\n",
       "603      Należałam kiedyś                7.0           True          5.0   \n",
       "\n",
       "    tick_picture                                                TBD  \\\n",
       "603      -;-;-;-  Borelioza;Wirusowe zapalenie mózgu i opon mózg...   \n",
       "\n",
       "                                TBD_symptoms  \\\n",
       "603  Rumień wędrujący;Bóle mięśniowo-stawowe   \n",
       "\n",
       "                                         po_ugryzieniu  \\\n",
       "603  Poproszę o pomoc kogoś, kto wie jak wyjąć kles...   \n",
       "\n",
       "                                            after_bite  \\\n",
       "603  Zgłoszę się do lekarza / pielęgniarki / ratown...   \n",
       "\n",
       "                                       how_to_remove  \\\n",
       "603  Nie wolno wyjmować, tylko lekarz może to zrobić   \n",
       "\n",
       "                                          profilaktyka where_ticks_live  \\\n",
       "603  Założyć ubrania z długimi rękawami i nogawkami...  Na łące;W lesie   \n",
       "\n",
       "    MIT_spin MIT_butter   MIT_SOR MIT_always_rumien MIT_big_tick  \\\n",
       "603   Prawda        Mit  Nie wiem            Prawda          Mit   \n",
       "\n",
       "    MIT_tick_go_away MIT_paralize_tick MIT_run_tick_run MIT_tickles  \\\n",
       "603              Mit               Mit              Mit         Mit   \n",
       "\n",
       "    MIT_place_of_bite MIT_vaccine MIT_forest_only MIT_wrong_remove  \\\n",
       "603               Mit      Prawda             Mit           Prawda   \n",
       "\n",
       "    MIT_speed_ill MIT_scarry_tick MIT_tick_jump MIT_waiting_boreliosis  \\\n",
       "603           Mit             Mit           Mit                 Prawda   \n",
       "\n",
       "    MIT_safe MIT_summer_tick MIT_part_tick MIT_city MIT_clock  time_in_nature  \\\n",
       "603      Mit             Mit           Mit   Prawda       Mit             1.0   \n",
       "\n",
       "     tick_bites       source_of_knowledge  \\\n",
       "603         3.0  Od rodziny lub znajomych   \n",
       "\n",
       "                                      first_aid_course first_aid_content  \\\n",
       "603  W harcerstwie i szkole, w trakcie kursu na pra...               Tak   \n",
       "\n",
       "           tick_removal  with_images  is_women  first_aid_course_participated  \\\n",
       "603  żadne z powyższych        False      True                           True   \n",
       "\n",
       "     size_of_residence_place  time_in_nature_pruned  time_in_nature_clamped  \\\n",
       "603                        3                    1.0                     1.0   \n",
       "\n",
       "    tick_picture_score TBD_score TBD_symptoms_score po_ugryzieniu_score  \\\n",
       "603                  0         1                2/5                   1   \n",
       "\n",
       "    after_bite_score how_to_remove_score profilaktyka_score  \\\n",
       "603                1                -1/4                4/5   \n",
       "\n",
       "    where_ticks_live_score  MIT_spin_score  MIT_butter_score  MIT_SOR_score  \\\n",
       "603                    2/5               0                 1              0   \n",
       "\n",
       "     MIT_always_rumien_score  MIT_big_tick_score  MIT_tick_go_away_score  \\\n",
       "603                        0                   1                       1   \n",
       "\n",
       "     MIT_paralize_tick_score  MIT_run_tick_run_score  MIT_tickles_score  \\\n",
       "603                        1                       1                  1   \n",
       "\n",
       "     MIT_place_of_bite_score  MIT_vaccine_score  MIT_forest_only_score  \\\n",
       "603                        1                  0                      1   \n",
       "\n",
       "     MIT_wrong_remove_score  MIT_speed_ill_score  MIT_scarry_tick_score  \\\n",
       "603                       1                    1                      1   \n",
       "\n",
       "     MIT_tick_jump_score  MIT_waiting_boreliosis_score  MIT_safe_score  \\\n",
       "603                    1                             1               1   \n",
       "\n",
       "     MIT_summer_tick_score  MIT_part_tick_score  MIT_city_score  \\\n",
       "603                      1                    1               1   \n",
       "\n",
       "     MIT_clock_score  total_score_without_images  total_score_with_images  \\\n",
       "603                1                       22.35                    22.35   \n",
       "\n",
       "     score_as_percent  \n",
       "603         77.068966  "
      ]
     },
     "execution_count": 6,
     "metadata": {},
     "output_type": "execute_result"
    }
   ],
   "source": [
    "set_option('max_columns', None)\n",
    "scouts[scouts.scouting_organization == 'Należałam kiedyś'].head()"
   ]
  },
  {
   "cell_type": "code",
   "execution_count": 7,
   "metadata": {},
   "outputs": [],
   "source": [
    "# set_option('max_columns', None)\n",
    "# scouts[scouts.camps_count >= 20].head(60)"
   ]
  },
  {
   "cell_type": "markdown",
   "metadata": {},
   "source": [
    "Give short names to scout organis\\zations"
   ]
  },
  {
   "cell_type": "code",
   "execution_count": 8,
   "metadata": {},
   "outputs": [
    {
     "data": {
      "text/plain": [
       "{'ZHP': 973,\n",
       " 'ZHR': 137,\n",
       " 'SHK \"Zawisza\"': 63,\n",
       " 'RRP': 1,\n",
       " 'KH DP': 2,\n",
       " 'SH': 21,\n",
       " 'OH \"Rodło\"': 1,\n",
       " 'HRP': 2}"
      ]
     },
     "execution_count": 8,
     "metadata": {},
     "output_type": "execute_result"
    }
   ],
   "source": [
    "orgs_grouped = {\n",
    "    'ZHP': orgs['ZHP'] + orgs['ZHP;ZHR'],\n",
    "    'ZHR': orgs['ZHR'] + orgs['ZHP;ZHR'],\n",
    "    'SHK \"Zawisza\"': (\n",
    "        orgs['Stowarzyszenie Harcerstwa Katolickiego \"Zawisza\"']\n",
    "    ),\n",
    "    'RRP': orgs['Royal Rangers'],\n",
    "    'KH DP': orgs['Drzewo Pokoju'],\n",
    "    'SH': orgs['Stowarzyszenie Harcerskie'],\n",
    "    'OH \"Rodło\"': (\n",
    "        orgs['Organizacja Harcerska \"Rodło\" im. Szarych Szeregów']\n",
    "    ),\n",
    "    'HRP': orgs['Harcerstwo Rzeczpospolitej Polskiej']\n",
    "}\n",
    "orgs_grouped"
   ]
  },
  {
   "cell_type": "markdown",
   "metadata": {},
   "source": [
    "Count percent of different scouts organizations among participants"
   ]
  },
  {
   "cell_type": "code",
   "execution_count": 9,
   "metadata": {},
   "outputs": [
    {
     "data": {
      "text/plain": [
       "{'ZHP': 81.08333333333333,\n",
       " 'ZHR': 11.416666666666666,\n",
       " 'SHK \"Zawisza\"': 5.25,\n",
       " 'RRP': 0.08333333333333333,\n",
       " 'KH DP': 0.16666666666666666,\n",
       " 'SH': 1.75,\n",
       " 'OH \"Rodło\"': 0.08333333333333333,\n",
       " 'HRP': 0.16666666666666666}"
      ]
     },
     "execution_count": 9,
     "metadata": {},
     "output_type": "execute_result"
    }
   ],
   "source": [
    "orgs_percent = {\n",
    "    key: 100 * val / sum(orgs_grouped.values())\n",
    "    for key, val in orgs_grouped.items()\n",
    "}\n",
    "orgs_percent"
   ]
  },
  {
   "cell_type": "markdown",
   "metadata": {},
   "source": [
    "Count percent of different scouts organizations in Poland"
   ]
  },
  {
   "cell_type": "code",
   "execution_count": 10,
   "metadata": {},
   "outputs": [
    {
     "data": {
      "text/plain": [
       "{'KH DP': 180,\n",
       " 'HRP': 60,\n",
       " 'OH \"Rodło\"': 100,\n",
       " 'RRP': 1337,\n",
       " 'SH': 643,\n",
       " 'SHK \"Zawisza\"': 5029,\n",
       " 'ZHP': 105840,\n",
       " 'ZHR': 16000}"
      ]
     },
     "execution_count": 10,
     "metadata": {},
     "output_type": "execute_result"
    }
   ],
   "source": [
    "spraw_opp = {\n",
    "    'KH DP': 180,\n",
    "    'HRP': 60,\n",
    "    'OH \"Rodło\"': 100,\n",
    "    'RRP': 1337,\n",
    "    'SH': 643,\n",
    "    'SHK \"Zawisza\"': 5029,\n",
    "    'ZHP': 105840,\n",
    "    'ZHR': 16000\n",
    "}\n",
    "spraw_opp"
   ]
  },
  {
   "cell_type": "code",
   "execution_count": 11,
   "metadata": {},
   "outputs": [
    {
     "data": {
      "text/plain": [
       "{'KH DP': 0.13933074797389872,\n",
       " 'HRP': 0.046443582657966234,\n",
       " 'OH \"Rodło\"': 0.07740597109661039,\n",
       " 'RRP': 1.0349178335616809,\n",
       " 'SH': 0.49772039415120484,\n",
       " 'SHK \"Zawisza\"': 3.8927462864485367,\n",
       " 'ZHP': 81.92647980865245,\n",
       " 'ZHR': 12.384955375457663}"
      ]
     },
     "execution_count": 11,
     "metadata": {},
     "output_type": "execute_result"
    }
   ],
   "source": [
    "opp_percent = {\n",
    "    key: 100 * val / sum(spraw_opp.values())\n",
    "    for key, val in spraw_opp.items()\n",
    "}\n",
    "opp_percent"
   ]
  },
  {
   "cell_type": "code",
   "execution_count": 12,
   "metadata": {},
   "outputs": [
    {
     "name": "stdout",
     "output_type": "stream",
     "text": [
      "Skipping RRP: 1 < 5\n",
      "Skipping KH DP: 2 < 5\n",
      "Skipping OH \"Rodło\": 1 < 5\n",
      "Skipping HRP: 2 < 5\n"
     ]
    },
    {
     "data": {
      "text/plain": [
       "[[105840, 16000, 5029, 643], [973, 137, 63, 21]]"
      ]
     },
     "execution_count": 12,
     "metadata": {},
     "output_type": "execute_result"
    }
   ],
   "source": [
    "contingency_table = [[], []]\n",
    "for org in orgs_grouped:\n",
    "    if orgs_grouped[org] >= 5:\n",
    "        contingency_table[0].append(spraw_opp[org])\n",
    "        contingency_table[1].append(orgs_grouped[org])\n",
    "    else:\n",
    "        print(f'Skipping {org}: {orgs_grouped[org]} < 5')\n",
    "contingency_table"
   ]
  },
  {
   "cell_type": "code",
   "execution_count": 13,
   "metadata": {},
   "outputs": [
    {
     "data": {
      "text/plain": [
       "(42.809377675434426,\n",
       " 2.7013596415698568e-09,\n",
       " 3,\n",
       " array([[1.05822100e+05, 1.59872977e+04, 5.04476174e+03, 6.57840101e+02],\n",
       "        [9.90899585e+02, 1.49702252e+02, 4.72382640e+01, 6.15989931e+00]]))"
      ]
     },
     "execution_count": 13,
     "metadata": {},
     "output_type": "execute_result"
    }
   ],
   "source": [
    "stats.chi2_contingency(contingency_table)"
   ]
  }
 ],
 "metadata": {
  "kernelspec": {
   "display_name": "Python 3",
   "language": "python",
   "name": "python3"
  },
  "language_info": {
   "codemirror_mode": {
    "name": "ipython",
    "version": 3
   },
   "file_extension": ".py",
   "mimetype": "text/x-python",
   "name": "python",
   "nbconvert_exporter": "python",
   "pygments_lexer": "ipython3",
   "version": "3.7.6"
  }
 },
 "nbformat": 4,
 "nbformat_minor": 4
}
